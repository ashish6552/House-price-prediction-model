{
 "cells": [
  {
   "cell_type": "markdown",
   "id": "c347601c",
   "metadata": {},
   "source": [
    "## Housing Data-Price Prediction\n",
    "- In the dataset we have various features which are associated with the proce of a house.\n",
    "- In reality, a real estate agent predicts price of a house based on features of house. These include: `Lot size`, `Neighbourhood`, `Number of bedrooms`, `Swimming pool`, etc. \n",
    "\n",
    "- Based on past data of house sells price and features, we build a model to predict price of a house which will help a realtor to predict the price of a house."
   ]
  },
  {
   "cell_type": "markdown",
   "id": "d04f7d6c",
   "metadata": {},
   "source": [
    "### Importing Library"
   ]
  },
  {
   "cell_type": "code",
   "execution_count": 1,
   "id": "c90f9e8b",
   "metadata": {
    "scrolled": false
   },
   "outputs": [],
   "source": [
    "import numpy as np\n",
    "import pandas as pd\n",
    "import matplotlib.pyplot as plt\n",
    "import seaborn as sns"
   ]
  },
  {
   "cell_type": "markdown",
   "id": "412b918a",
   "metadata": {},
   "source": [
    "### Importing dataset"
   ]
  },
  {
   "cell_type": "code",
   "execution_count": 2,
   "id": "00a0d18c",
   "metadata": {},
   "outputs": [],
   "source": [
    "df = pd.read_csv(\"C:\\\\Users\\\\Ashish Gupta\\\\Desktop\\\\Python\\\\DATA copy\\\\Ames_Housing_Data.csv\")"
   ]
  },
  {
   "cell_type": "markdown",
   "id": "ac2d8bcb",
   "metadata": {},
   "source": [
    "### Feature discription\n",
    "- The dataset comes with a file attached which contains the description of each feature column.\n",
    "- It explains the meaning of each feature variable and the values it contain"
   ]
  },
  {
   "cell_type": "code",
   "execution_count": 3,
   "id": "288020a8",
   "metadata": {},
   "outputs": [
    {
     "name": "stdout",
     "output_type": "stream",
     "text": [
      "MSSubClass: Identifies the type of dwelling involved in the sale.\t\n",
      "\n",
      "        20\t1-STORY 1946 & NEWER ALL STYLES\n",
      "        30\t1-STORY 1945 & OLDER\n",
      "        40\t1-STORY W/FINISHED ATTIC ALL AGES\n",
      "        45\t1-1/2 STORY - UNFINISHED ALL AGES\n",
      "        50\t1-1/2 STORY FINISHED ALL AGES\n",
      "        60\t2-STORY 1946 & NEWER\n",
      "        70\t2-STORY 1945 & OLDER\n",
      "        75\t2-1/2 STORY ALL AGES\n",
      "        80\tSPLIT OR MULTI-LEVEL\n",
      "        85\tSPLIT FOYER\n",
      "        90\tDUPLEX - ALL STYLES AND AGES\n",
      "       120\t1-STORY PUD (Planned Unit Development) - 1946 & NEWER\n",
      "       150\t1-1/2 STORY PUD - ALL AGES\n",
      "       160\t2-STORY PUD - 1946 & NEWER\n",
      "       180\tPUD - MULTILEVEL - INCL SPLIT LEV/FOYER\n",
      "       190\t2 FAMILY CONVERSION - ALL STYLES AND AGES\n",
      "\n",
      "MSZoning: Identifies the general zoning classification of the sale.\n",
      "\t\t\n",
      "       A\tAgriculture\n",
      "       C\tCommercial\n",
      "       FV\tFloating Village Residential\n",
      "       I\tIndustrial\n",
      "       RH\tResidential High Density\n",
      "       RL\tResidential Low Density\n",
      "       RP\tResidential Low Density Park \n",
      "       RM\tResidential Medium Density\n",
      "\t\n",
      "LotFrontage: Linear feet of street connected to property\n",
      "\n",
      "LotArea: Lot size in square feet\n",
      "\n",
      "Street: Type of road access to property\n",
      "\n",
      "       Grvl\tGravel\t\n",
      "       Pave\tPaved\n",
      "       \t\n",
      "Alley: Type of alley access to property\n",
      "\n",
      "       Grvl\tGravel\n",
      "       Pave\tPaved\n",
      "       NA \tNo alley access\n",
      "\t\t\n",
      "LotShape: General shape of property\n",
      "\n",
      "       Reg\tRegular\t\n",
      "       IR1\tSlightly irregular\n",
      "       IR2\tModerately Irregular\n",
      "       IR3\tIrregular\n",
      "       \n",
      "LandContour: Flatness of the property\n",
      "\n",
      "       Lvl\tNear Flat/Level\t\n",
      "       Bnk\tBanked - Quick and significant rise from street grade to building\n",
      "       HLS\tHillside - Significant slope from side to side\n",
      "       Low\tDepression\n",
      "\t\t\n",
      "Utilities: Type of utilities available\n",
      "\t\t\n",
      "       AllPub\tAll public Utilities (E,G,W,& S)\t\n",
      "       NoSewr\tElectricity, Gas, and Water (Septic Tank)\n",
      "       NoSeWa\tElectricity and Gas Only\n",
      "       ELO\tElectricity only\t\n",
      "\t\n",
      "LotConfig: Lot configuration\n",
      "\n",
      "       Inside\tInside lot\n",
      "       Corner\tCorner lot\n",
      "       CulDSac\tCul-de-sac\n",
      "       FR2\tFrontage on 2 sides of property\n",
      "       FR3\tFrontage on 3 sides of property\n",
      "\t\n",
      "LandSlope: Slope of property\n",
      "\t\t\n",
      "       Gtl\tGentle slope\n",
      "       Mod\tModerate Slope\t\n",
      "       Sev\tSevere Slope\n",
      "\t\n",
      "Neighborhood: Physical locations within Ames city limits\n",
      "\n",
      "       Blmngtn\tBloomington Heights\n",
      "       Blueste\tBluestem\n",
      "       BrDale\tBriardale\n",
      "       BrkSide\tBrookside\n",
      "       ClearCr\tClear Creek\n",
      "       CollgCr\tCollege Creek\n",
      "       Crawfor\tCrawford\n",
      "       Edwards\tEdwards\n",
      "       Gilbert\tGilbert\n",
      "       IDOTRR\tIowa DOT and Rail Road\n",
      "       MeadowV\tMeadow Village\n",
      "       Mitchel\tMitchell\n",
      "       Names\tNorth Ames\n",
      "       NoRidge\tNorthridge\n",
      "       NPkVill\tNorthpark Villa\n",
      "       NridgHt\tNorthridge Heights\n",
      "       NWAmes\tNorthwest Ames\n",
      "       OldTown\tOld Town\n",
      "       SWISU\tSouth & West of Iowa State University\n",
      "       Sawyer\tSawyer\n",
      "       SawyerW\tSawyer West\n",
      "       Somerst\tSomerset\n",
      "       StoneBr\tStone Brook\n",
      "       Timber\tTimberland\n",
      "       Veenker\tVeenker\n",
      "\t\t\t\n",
      "Condition1: Proximity to various conditions\n",
      "\t\n",
      "       Artery\tAdjacent to arterial street\n",
      "       Feedr\tAdjacent to feeder street\t\n",
      "       Norm\tNormal\t\n",
      "       RRNn\tWithin 200' of North-South Railroad\n",
      "       RRAn\tAdjacent to North-South Railroad\n",
      "       PosN\tNear positive off-site feature--park, greenbelt, etc.\n",
      "       PosA\tAdjacent to postive off-site feature\n",
      "       RRNe\tWithin 200' of East-West Railroad\n",
      "       RRAe\tAdjacent to East-West Railroad\n",
      "\t\n",
      "Condition2: Proximity to various conditions (if more than one is present)\n",
      "\t\t\n",
      "       Artery\tAdjacent to arterial street\n",
      "       Feedr\tAdjacent to feeder street\t\n",
      "       Norm\tNormal\t\n",
      "       RRNn\tWithin 200' of North-South Railroad\n",
      "       RRAn\tAdjacent to North-South Railroad\n",
      "       PosN\tNear positive off-site feature--park, greenbelt, etc.\n",
      "       PosA\tAdjacent to postive off-site feature\n",
      "       RRNe\tWithin 200' of East-West Railroad\n",
      "       RRAe\tAdjacent to East-West Railroad\n",
      "\t\n",
      "BldgType: Type of dwelling\n",
      "\t\t\n",
      "       1Fam\tSingle-family Detached\t\n",
      "       2FmCon\tTwo-family Conversion; originally built as one-family dwelling\n",
      "       Duplx\tDuplex\n",
      "       TwnhsE\tTownhouse End Unit\n",
      "       TwnhsI\tTownhouse Inside Unit\n",
      "\t\n",
      "HouseStyle: Style of dwelling\n",
      "\t\n",
      "       1Story\tOne story\n",
      "       1.5Fin\tOne and one-half story: 2nd level finished\n",
      "       1.5Unf\tOne and one-half story: 2nd level unfinished\n",
      "       2Story\tTwo story\n",
      "       2.5Fin\tTwo and one-half story: 2nd level finished\n",
      "       2.5Unf\tTwo and one-half story: 2nd level unfinished\n",
      "       SFoyer\tSplit Foyer\n",
      "       SLvl\tSplit Level\n",
      "\t\n",
      "OverallQual: Rates the overall material and finish of the house\n",
      "\n",
      "       10\tVery Excellent\n",
      "       9\tExcellent\n",
      "       8\tVery Good\n",
      "       7\tGood\n",
      "       6\tAbove Average\n",
      "       5\tAverage\n",
      "       4\tBelow Average\n",
      "       3\tFair\n",
      "       2\tPoor\n",
      "       1\tVery Poor\n",
      "\t\n",
      "OverallCond: Rates the overall condition of the house\n",
      "\n",
      "       10\tVery Excellent\n",
      "       9\tExcellent\n",
      "       8\tVery Good\n",
      "       7\tGood\n",
      "       6\tAbove Average\t\n",
      "       5\tAverage\n",
      "       4\tBelow Average\t\n",
      "       3\tFair\n",
      "       2\tPoor\n",
      "       1\tVery Poor\n",
      "\t\t\n",
      "YearBuilt: Original construction date\n",
      "\n",
      "YearRemodAdd: Remodel date (same as construction date if no remodeling or additions)\n",
      "\n",
      "RoofStyle: Type of roof\n",
      "\n",
      "       Flat\tFlat\n",
      "       Gable\tGable\n",
      "       Gambrel\tGabrel (Barn)\n",
      "       Hip\tHip\n",
      "       Mansard\tMansard\n",
      "       Shed\tShed\n",
      "\t\t\n",
      "RoofMatl: Roof material\n",
      "\n",
      "       ClyTile\tClay or Tile\n",
      "       CompShg\tStandard (Composite) Shingle\n",
      "       Membran\tMembrane\n",
      "       Metal\tMetal\n",
      "       Roll\tRoll\n",
      "       Tar&Grv\tGravel & Tar\n",
      "       WdShake\tWood Shakes\n",
      "       WdShngl\tWood Shingles\n",
      "\t\t\n",
      "Exterior1st: Exterior covering on house\n",
      "\n",
      "       AsbShng\tAsbestos Shingles\n",
      "       AsphShn\tAsphalt Shingles\n",
      "       BrkComm\tBrick Common\n",
      "       BrkFace\tBrick Face\n",
      "       CBlock\tCinder Block\n",
      "       CemntBd\tCement Board\n",
      "       HdBoard\tHard Board\n",
      "       ImStucc\tImitation Stucco\n",
      "       MetalSd\tMetal Siding\n",
      "       Other\tOther\n",
      "       Plywood\tPlywood\n",
      "       PreCast\tPreCast\t\n",
      "       Stone\tStone\n",
      "       Stucco\tStucco\n",
      "       VinylSd\tVinyl Siding\n",
      "       Wd Sdng\tWood Siding\n",
      "       WdShing\tWood Shingles\n",
      "\t\n",
      "Exterior2nd: Exterior covering on house (if more than one material)\n",
      "\n",
      "       AsbShng\tAsbestos Shingles\n",
      "       AsphShn\tAsphalt Shingles\n",
      "       BrkComm\tBrick Common\n",
      "       BrkFace\tBrick Face\n",
      "       CBlock\tCinder Block\n",
      "       CemntBd\tCement Board\n",
      "       HdBoard\tHard Board\n",
      "       ImStucc\tImitation Stucco\n",
      "       MetalSd\tMetal Siding\n",
      "       Other\tOther\n",
      "       Plywood\tPlywood\n",
      "       PreCast\tPreCast\n",
      "       Stone\tStone\n",
      "       Stucco\tStucco\n",
      "       VinylSd\tVinyl Siding\n",
      "       Wd Sdng\tWood Siding\n",
      "       WdShing\tWood Shingles\n",
      "\t\n",
      "MasVnrType: Masonry veneer type\n",
      "\n",
      "       BrkCmn\tBrick Common\n",
      "       BrkFace\tBrick Face\n",
      "       CBlock\tCinder Block\n",
      "       None\tNone\n",
      "       Stone\tStone\n",
      "\t\n",
      "MasVnrArea: Masonry veneer area in square feet\n",
      "\n",
      "ExterQual: Evaluates the quality of the material on the exterior \n",
      "\t\t\n",
      "       Ex\tExcellent\n",
      "       Gd\tGood\n",
      "       TA\tAverage/Typical\n",
      "       Fa\tFair\n",
      "       Po\tPoor\n",
      "\t\t\n",
      "ExterCond: Evaluates the present condition of the material on the exterior\n",
      "\t\t\n",
      "       Ex\tExcellent\n",
      "       Gd\tGood\n",
      "       TA\tAverage/Typical\n",
      "       Fa\tFair\n",
      "       Po\tPoor\n",
      "\t\t\n",
      "Foundation: Type of foundation\n",
      "\t\t\n",
      "       BrkTil\tBrick & Tile\n",
      "       CBlock\tCinder Block\n",
      "       PConc\tPoured Contrete\t\n",
      "       Slab\tSlab\n",
      "       Stone\tStone\n",
      "       Wood\tWood\n",
      "\t\t\n",
      "BsmtQual: Evaluates the height of the basement\n",
      "\n",
      "       Ex\tExcellent (100+ inches)\t\n",
      "       Gd\tGood (90-99 inches)\n",
      "       TA\tTypical (80-89 inches)\n",
      "       Fa\tFair (70-79 inches)\n",
      "       Po\tPoor (<70 inches\n",
      "       NA\tNo Basement\n",
      "\t\t\n",
      "BsmtCond: Evaluates the general condition of the basement\n",
      "\n",
      "       Ex\tExcellent\n",
      "       Gd\tGood\n",
      "       TA\tTypical - slight dampness allowed\n",
      "       Fa\tFair - dampness or some cracking or settling\n",
      "       Po\tPoor - Severe cracking, settling, or wetness\n",
      "       NA\tNo Basement\n",
      "\t\n",
      "BsmtExposure: Refers to walkout or garden level walls\n",
      "\n",
      "       Gd\tGood Exposure\n",
      "       Av\tAverage Exposure (split levels or foyers typically score average or above)\t\n",
      "       Mn\tMimimum Exposure\n",
      "       No\tNo Exposure\n",
      "       NA\tNo Basement\n",
      "\t\n",
      "BsmtFinType1: Rating of basement finished area\n",
      "\n",
      "       GLQ\tGood Living Quarters\n",
      "       ALQ\tAverage Living Quarters\n",
      "       BLQ\tBelow Average Living Quarters\t\n",
      "       Rec\tAverage Rec Room\n",
      "       LwQ\tLow Quality\n",
      "       Unf\tUnfinshed\n",
      "       NA\tNo Basement\n",
      "\t\t\n",
      "BsmtFinSF1: Type 1 finished square feet\n",
      "\n",
      "BsmtFinType2: Rating of basement finished area (if multiple types)\n",
      "\n",
      "       GLQ\tGood Living Quarters\n",
      "       ALQ\tAverage Living Quarters\n",
      "       BLQ\tBelow Average Living Quarters\t\n",
      "       Rec\tAverage Rec Room\n",
      "       LwQ\tLow Quality\n",
      "       Unf\tUnfinshed\n",
      "       NA\tNo Basement\n",
      "\n",
      "BsmtFinSF2: Type 2 finished square feet\n",
      "\n",
      "BsmtUnfSF: Unfinished square feet of basement area\n",
      "\n",
      "TotalBsmtSF: Total square feet of basement area\n",
      "\n",
      "Heating: Type of heating\n",
      "\t\t\n",
      "       Floor\tFloor Furnace\n",
      "       GasA\tGas forced warm air furnace\n",
      "       GasW\tGas hot water or steam heat\n",
      "       Grav\tGravity furnace\t\n",
      "       OthW\tHot water or steam heat other than gas\n",
      "       Wall\tWall furnace\n",
      "\t\t\n",
      "HeatingQC: Heating quality and condition\n",
      "\n",
      "       Ex\tExcellent\n",
      "       Gd\tGood\n",
      "       TA\tAverage/Typical\n",
      "       Fa\tFair\n",
      "       Po\tPoor\n",
      "\t\t\n",
      "CentralAir: Central air conditioning\n",
      "\n",
      "       N\tNo\n",
      "       Y\tYes\n",
      "\t\t\n",
      "Electrical: Electrical system\n",
      "\n",
      "       SBrkr\tStandard Circuit Breakers & Romex\n",
      "       FuseA\tFuse Box over 60 AMP and all Romex wiring (Average)\t\n",
      "       FuseF\t60 AMP Fuse Box and mostly Romex wiring (Fair)\n",
      "       FuseP\t60 AMP Fuse Box and mostly knob & tube wiring (poor)\n",
      "       Mix\tMixed\n",
      "\t\t\n",
      "1stFlrSF: First Floor square feet\n",
      " \n",
      "2ndFlrSF: Second floor square feet\n",
      "\n",
      "LowQualFinSF: Low quality finished square feet (all floors)\n",
      "\n",
      "GrLivArea: Above grade (ground) living area square feet\n",
      "\n",
      "BsmtFullBath: Basement full bathrooms\n",
      "\n",
      "BsmtHalfBath: Basement half bathrooms\n",
      "\n",
      "FullBath: Full bathrooms above grade\n",
      "\n",
      "HalfBath: Half baths above grade\n",
      "\n",
      "Bedroom: Bedrooms above grade (does NOT include basement bedrooms)\n",
      "\n",
      "Kitchen: Kitchens above grade\n",
      "\n",
      "KitchenQual: Kitchen quality\n",
      "\n",
      "       Ex\tExcellent\n",
      "       Gd\tGood\n",
      "       TA\tTypical/Average\n",
      "       Fa\tFair\n",
      "       Po\tPoor\n",
      "       \t\n",
      "TotRmsAbvGrd: Total rooms above grade (does not include bathrooms)\n",
      "\n",
      "Functional: Home functionality (Assume typical unless deductions are warranted)\n",
      "\n",
      "       Typ\tTypical Functionality\n",
      "       Min1\tMinor Deductions 1\n",
      "       Min2\tMinor Deductions 2\n",
      "       Mod\tModerate Deductions\n",
      "       Maj1\tMajor Deductions 1\n",
      "       Maj2\tMajor Deductions 2\n",
      "       Sev\tSeverely Damaged\n",
      "       Sal\tSalvage only\n",
      "\t\t\n",
      "Fireplaces: Number of fireplaces\n",
      "\n",
      "FireplaceQu: Fireplace quality\n",
      "\n",
      "       Ex\tExcellent - Exceptional Masonry Fireplace\n",
      "       Gd\tGood - Masonry Fireplace in main level\n",
      "       TA\tAverage - Prefabricated Fireplace in main living area or Masonry Fireplace in basement\n",
      "       Fa\tFair - Prefabricated Fireplace in basement\n",
      "       Po\tPoor - Ben Franklin Stove\n",
      "       NA\tNo Fireplace\n",
      "\t\t\n",
      "GarageType: Garage location\n",
      "\t\t\n",
      "       2Types\tMore than one type of garage\n",
      "       Attchd\tAttached to home\n",
      "       Basment\tBasement Garage\n",
      "       BuiltIn\tBuilt-In (Garage part of house - typically has room above garage)\n",
      "       CarPort\tCar Port\n",
      "       Detchd\tDetached from home\n",
      "       NA\tNo Garage\n",
      "\t\t\n",
      "GarageYrBlt: Year garage was built\n",
      "\t\t\n",
      "GarageFinish: Interior finish of the garage\n",
      "\n",
      "       Fin\tFinished\n",
      "       RFn\tRough Finished\t\n",
      "       Unf\tUnfinished\n",
      "       NA\tNo Garage\n",
      "\t\t\n",
      "GarageCars: Size of garage in car capacity\n",
      "\n",
      "GarageArea: Size of garage in square feet\n",
      "\n",
      "GarageQual: Garage quality\n",
      "\n",
      "       Ex\tExcellent\n",
      "       Gd\tGood\n",
      "       TA\tTypical/Average\n",
      "       Fa\tFair\n",
      "       Po\tPoor\n",
      "       NA\tNo Garage\n",
      "\t\t\n",
      "GarageCond: Garage condition\n",
      "\n",
      "       Ex\tExcellent\n",
      "       Gd\tGood\n",
      "       TA\tTypical/Average\n",
      "       Fa\tFair\n",
      "       Po\tPoor\n",
      "       NA\tNo Garage\n",
      "\t\t\n",
      "PavedDrive: Paved driveway\n",
      "\n",
      "       Y\tPaved \n",
      "       P\tPartial Pavement\n",
      "       N\tDirt/Gravel\n",
      "\t\t\n",
      "WoodDeckSF: Wood deck area in square feet\n",
      "\n",
      "OpenPorchSF: Open porch area in square feet\n",
      "\n",
      "EnclosedPorch: Enclosed porch area in square feet\n",
      "\n",
      "3SsnPorch: Three season porch area in square feet\n",
      "\n",
      "ScreenPorch: Screen porch area in square feet\n",
      "\n",
      "PoolArea: Pool area in square feet\n",
      "\n",
      "PoolQC: Pool quality\n",
      "\t\t\n",
      "       Ex\tExcellent\n",
      "       Gd\tGood\n",
      "       TA\tAverage/Typical\n",
      "       Fa\tFair\n",
      "       NA\tNo Pool\n",
      "\t\t\n",
      "Fence: Fence quality\n",
      "\t\t\n",
      "       GdPrv\tGood Privacy\n",
      "       MnPrv\tMinimum Privacy\n",
      "       GdWo\tGood Wood\n",
      "       MnWw\tMinimum Wood/Wire\n",
      "       NA\tNo Fence\n",
      "\t\n",
      "MiscFeature: Miscellaneous feature not covered in other categories\n",
      "\t\t\n",
      "       Elev\tElevator\n",
      "       Gar2\t2nd Garage (if not described in garage section)\n",
      "       Othr\tOther\n",
      "       Shed\tShed (over 100 SF)\n",
      "       TenC\tTennis Court\n",
      "       NA\tNone\n",
      "\t\t\n",
      "MiscVal: $Value of miscellaneous feature\n",
      "\n",
      "MoSold: Month Sold (MM)\n",
      "\n",
      "YrSold: Year Sold (YYYY)\n",
      "\n",
      "SaleType: Type of sale\n",
      "\t\t\n",
      "       WD \tWarranty Deed - Conventional\n",
      "       CWD\tWarranty Deed - Cash\n",
      "       VWD\tWarranty Deed - VA Loan\n",
      "       New\tHome just constructed and sold\n",
      "       COD\tCourt Officer Deed/Estate\n",
      "       Con\tContract 15% Down payment regular terms\n",
      "       ConLw\tContract Low Down payment and low interest\n",
      "       ConLI\tContract Low Interest\n",
      "       ConLD\tContract Low Down\n",
      "       Oth\tOther\n",
      "\t\t\n",
      "SaleCondition: Condition of sale\n",
      "\n",
      "       Normal\tNormal Sale\n",
      "       Abnorml\tAbnormal Sale -  trade, foreclosure, short sale\n",
      "       AdjLand\tAdjoining Land Purchase\n",
      "       Alloca\tAllocation - two linked properties with separate deeds, typically condo with a garage unit\t\n",
      "       Family\tSale between family members\n",
      "       Partial\tHome was not completed when last assessed (associated with New Homes)\n",
      "\n"
     ]
    }
   ],
   "source": [
    "with open('C:\\\\Users\\\\Ashish Gupta\\\\Desktop\\\\Python\\\\DATA copy\\\\Ames_Housing_Feature_Description.txt','r') as f: \n",
    "    print(f.read())"
   ]
  },
  {
   "cell_type": "code",
   "execution_count": 4,
   "id": "c0ea05a9",
   "metadata": {},
   "outputs": [
    {
     "data": {
      "text/html": [
       "<div>\n",
       "<style scoped>\n",
       "    .dataframe tbody tr th:only-of-type {\n",
       "        vertical-align: middle;\n",
       "    }\n",
       "\n",
       "    .dataframe tbody tr th {\n",
       "        vertical-align: top;\n",
       "    }\n",
       "\n",
       "    .dataframe thead th {\n",
       "        text-align: right;\n",
       "    }\n",
       "</style>\n",
       "<table border=\"1\" class=\"dataframe\">\n",
       "  <thead>\n",
       "    <tr style=\"text-align: right;\">\n",
       "      <th></th>\n",
       "      <th>PID</th>\n",
       "      <th>MS SubClass</th>\n",
       "      <th>MS Zoning</th>\n",
       "      <th>Lot Frontage</th>\n",
       "      <th>Lot Area</th>\n",
       "      <th>Street</th>\n",
       "      <th>Alley</th>\n",
       "      <th>Lot Shape</th>\n",
       "      <th>Land Contour</th>\n",
       "      <th>Utilities</th>\n",
       "      <th>...</th>\n",
       "      <th>Pool Area</th>\n",
       "      <th>Pool QC</th>\n",
       "      <th>Fence</th>\n",
       "      <th>Misc Feature</th>\n",
       "      <th>Misc Val</th>\n",
       "      <th>Mo Sold</th>\n",
       "      <th>Yr Sold</th>\n",
       "      <th>Sale Type</th>\n",
       "      <th>Sale Condition</th>\n",
       "      <th>SalePrice</th>\n",
       "    </tr>\n",
       "  </thead>\n",
       "  <tbody>\n",
       "    <tr>\n",
       "      <th>0</th>\n",
       "      <td>526301100</td>\n",
       "      <td>20</td>\n",
       "      <td>RL</td>\n",
       "      <td>141.0</td>\n",
       "      <td>31770</td>\n",
       "      <td>Pave</td>\n",
       "      <td>NaN</td>\n",
       "      <td>IR1</td>\n",
       "      <td>Lvl</td>\n",
       "      <td>AllPub</td>\n",
       "      <td>...</td>\n",
       "      <td>0</td>\n",
       "      <td>NaN</td>\n",
       "      <td>NaN</td>\n",
       "      <td>NaN</td>\n",
       "      <td>0</td>\n",
       "      <td>5</td>\n",
       "      <td>2010</td>\n",
       "      <td>WD</td>\n",
       "      <td>Normal</td>\n",
       "      <td>215000</td>\n",
       "    </tr>\n",
       "    <tr>\n",
       "      <th>1</th>\n",
       "      <td>526350040</td>\n",
       "      <td>20</td>\n",
       "      <td>RH</td>\n",
       "      <td>80.0</td>\n",
       "      <td>11622</td>\n",
       "      <td>Pave</td>\n",
       "      <td>NaN</td>\n",
       "      <td>Reg</td>\n",
       "      <td>Lvl</td>\n",
       "      <td>AllPub</td>\n",
       "      <td>...</td>\n",
       "      <td>0</td>\n",
       "      <td>NaN</td>\n",
       "      <td>MnPrv</td>\n",
       "      <td>NaN</td>\n",
       "      <td>0</td>\n",
       "      <td>6</td>\n",
       "      <td>2010</td>\n",
       "      <td>WD</td>\n",
       "      <td>Normal</td>\n",
       "      <td>105000</td>\n",
       "    </tr>\n",
       "    <tr>\n",
       "      <th>2</th>\n",
       "      <td>526351010</td>\n",
       "      <td>20</td>\n",
       "      <td>RL</td>\n",
       "      <td>81.0</td>\n",
       "      <td>14267</td>\n",
       "      <td>Pave</td>\n",
       "      <td>NaN</td>\n",
       "      <td>IR1</td>\n",
       "      <td>Lvl</td>\n",
       "      <td>AllPub</td>\n",
       "      <td>...</td>\n",
       "      <td>0</td>\n",
       "      <td>NaN</td>\n",
       "      <td>NaN</td>\n",
       "      <td>Gar2</td>\n",
       "      <td>12500</td>\n",
       "      <td>6</td>\n",
       "      <td>2010</td>\n",
       "      <td>WD</td>\n",
       "      <td>Normal</td>\n",
       "      <td>172000</td>\n",
       "    </tr>\n",
       "    <tr>\n",
       "      <th>3</th>\n",
       "      <td>526353030</td>\n",
       "      <td>20</td>\n",
       "      <td>RL</td>\n",
       "      <td>93.0</td>\n",
       "      <td>11160</td>\n",
       "      <td>Pave</td>\n",
       "      <td>NaN</td>\n",
       "      <td>Reg</td>\n",
       "      <td>Lvl</td>\n",
       "      <td>AllPub</td>\n",
       "      <td>...</td>\n",
       "      <td>0</td>\n",
       "      <td>NaN</td>\n",
       "      <td>NaN</td>\n",
       "      <td>NaN</td>\n",
       "      <td>0</td>\n",
       "      <td>4</td>\n",
       "      <td>2010</td>\n",
       "      <td>WD</td>\n",
       "      <td>Normal</td>\n",
       "      <td>244000</td>\n",
       "    </tr>\n",
       "    <tr>\n",
       "      <th>4</th>\n",
       "      <td>527105010</td>\n",
       "      <td>60</td>\n",
       "      <td>RL</td>\n",
       "      <td>74.0</td>\n",
       "      <td>13830</td>\n",
       "      <td>Pave</td>\n",
       "      <td>NaN</td>\n",
       "      <td>IR1</td>\n",
       "      <td>Lvl</td>\n",
       "      <td>AllPub</td>\n",
       "      <td>...</td>\n",
       "      <td>0</td>\n",
       "      <td>NaN</td>\n",
       "      <td>MnPrv</td>\n",
       "      <td>NaN</td>\n",
       "      <td>0</td>\n",
       "      <td>3</td>\n",
       "      <td>2010</td>\n",
       "      <td>WD</td>\n",
       "      <td>Normal</td>\n",
       "      <td>189900</td>\n",
       "    </tr>\n",
       "  </tbody>\n",
       "</table>\n",
       "<p>5 rows × 81 columns</p>\n",
       "</div>"
      ],
      "text/plain": [
       "         PID  MS SubClass MS Zoning  Lot Frontage  Lot Area Street Alley  \\\n",
       "0  526301100           20        RL         141.0     31770   Pave   NaN   \n",
       "1  526350040           20        RH          80.0     11622   Pave   NaN   \n",
       "2  526351010           20        RL          81.0     14267   Pave   NaN   \n",
       "3  526353030           20        RL          93.0     11160   Pave   NaN   \n",
       "4  527105010           60        RL          74.0     13830   Pave   NaN   \n",
       "\n",
       "  Lot Shape Land Contour Utilities  ... Pool Area Pool QC  Fence Misc Feature  \\\n",
       "0       IR1          Lvl    AllPub  ...         0     NaN    NaN          NaN   \n",
       "1       Reg          Lvl    AllPub  ...         0     NaN  MnPrv          NaN   \n",
       "2       IR1          Lvl    AllPub  ...         0     NaN    NaN         Gar2   \n",
       "3       Reg          Lvl    AllPub  ...         0     NaN    NaN          NaN   \n",
       "4       IR1          Lvl    AllPub  ...         0     NaN  MnPrv          NaN   \n",
       "\n",
       "  Misc Val Mo Sold Yr Sold  Sale Type  Sale Condition  SalePrice  \n",
       "0        0       5    2010        WD           Normal     215000  \n",
       "1        0       6    2010        WD           Normal     105000  \n",
       "2    12500       6    2010        WD           Normal     172000  \n",
       "3        0       4    2010        WD           Normal     244000  \n",
       "4        0       3    2010        WD           Normal     189900  \n",
       "\n",
       "[5 rows x 81 columns]"
      ]
     },
     "execution_count": 4,
     "metadata": {},
     "output_type": "execute_result"
    }
   ],
   "source": [
    "df.head()"
   ]
  },
  {
   "cell_type": "code",
   "execution_count": 5,
   "id": "53b79cf2",
   "metadata": {
    "scrolled": true
   },
   "outputs": [
    {
     "name": "stdout",
     "output_type": "stream",
     "text": [
      "<class 'pandas.core.frame.DataFrame'>\n",
      "RangeIndex: 2930 entries, 0 to 2929\n",
      "Data columns (total 81 columns):\n",
      " #   Column           Non-Null Count  Dtype  \n",
      "---  ------           --------------  -----  \n",
      " 0   PID              2930 non-null   int64  \n",
      " 1   MS SubClass      2930 non-null   int64  \n",
      " 2   MS Zoning        2930 non-null   object \n",
      " 3   Lot Frontage     2440 non-null   float64\n",
      " 4   Lot Area         2930 non-null   int64  \n",
      " 5   Street           2930 non-null   object \n",
      " 6   Alley            198 non-null    object \n",
      " 7   Lot Shape        2930 non-null   object \n",
      " 8   Land Contour     2930 non-null   object \n",
      " 9   Utilities        2930 non-null   object \n",
      " 10  Lot Config       2930 non-null   object \n",
      " 11  Land Slope       2930 non-null   object \n",
      " 12  Neighborhood     2930 non-null   object \n",
      " 13  Condition 1      2930 non-null   object \n",
      " 14  Condition 2      2930 non-null   object \n",
      " 15  Bldg Type        2930 non-null   object \n",
      " 16  House Style      2930 non-null   object \n",
      " 17  Overall Qual     2930 non-null   int64  \n",
      " 18  Overall Cond     2930 non-null   int64  \n",
      " 19  Year Built       2930 non-null   int64  \n",
      " 20  Year Remod/Add   2930 non-null   int64  \n",
      " 21  Roof Style       2930 non-null   object \n",
      " 22  Roof Matl        2930 non-null   object \n",
      " 23  Exterior 1st     2930 non-null   object \n",
      " 24  Exterior 2nd     2930 non-null   object \n",
      " 25  Mas Vnr Type     2907 non-null   object \n",
      " 26  Mas Vnr Area     2907 non-null   float64\n",
      " 27  Exter Qual       2930 non-null   object \n",
      " 28  Exter Cond       2930 non-null   object \n",
      " 29  Foundation       2930 non-null   object \n",
      " 30  Bsmt Qual        2850 non-null   object \n",
      " 31  Bsmt Cond        2850 non-null   object \n",
      " 32  Bsmt Exposure    2847 non-null   object \n",
      " 33  BsmtFin Type 1   2850 non-null   object \n",
      " 34  BsmtFin SF 1     2929 non-null   float64\n",
      " 35  BsmtFin Type 2   2849 non-null   object \n",
      " 36  BsmtFin SF 2     2929 non-null   float64\n",
      " 37  Bsmt Unf SF      2929 non-null   float64\n",
      " 38  Total Bsmt SF    2929 non-null   float64\n",
      " 39  Heating          2930 non-null   object \n",
      " 40  Heating QC       2930 non-null   object \n",
      " 41  Central Air      2930 non-null   object \n",
      " 42  Electrical       2929 non-null   object \n",
      " 43  1st Flr SF       2930 non-null   int64  \n",
      " 44  2nd Flr SF       2930 non-null   int64  \n",
      " 45  Low Qual Fin SF  2930 non-null   int64  \n",
      " 46  Gr Liv Area      2930 non-null   int64  \n",
      " 47  Bsmt Full Bath   2928 non-null   float64\n",
      " 48  Bsmt Half Bath   2928 non-null   float64\n",
      " 49  Full Bath        2930 non-null   int64  \n",
      " 50  Half Bath        2930 non-null   int64  \n",
      " 51  Bedroom AbvGr    2930 non-null   int64  \n",
      " 52  Kitchen AbvGr    2930 non-null   int64  \n",
      " 53  Kitchen Qual     2930 non-null   object \n",
      " 54  TotRms AbvGrd    2930 non-null   int64  \n",
      " 55  Functional       2930 non-null   object \n",
      " 56  Fireplaces       2930 non-null   int64  \n",
      " 57  Fireplace Qu     1508 non-null   object \n",
      " 58  Garage Type      2773 non-null   object \n",
      " 59  Garage Yr Blt    2771 non-null   float64\n",
      " 60  Garage Finish    2771 non-null   object \n",
      " 61  Garage Cars      2929 non-null   float64\n",
      " 62  Garage Area      2929 non-null   float64\n",
      " 63  Garage Qual      2771 non-null   object \n",
      " 64  Garage Cond      2771 non-null   object \n",
      " 65  Paved Drive      2930 non-null   object \n",
      " 66  Wood Deck SF     2930 non-null   int64  \n",
      " 67  Open Porch SF    2930 non-null   int64  \n",
      " 68  Enclosed Porch   2930 non-null   int64  \n",
      " 69  3Ssn Porch       2930 non-null   int64  \n",
      " 70  Screen Porch     2930 non-null   int64  \n",
      " 71  Pool Area        2930 non-null   int64  \n",
      " 72  Pool QC          13 non-null     object \n",
      " 73  Fence            572 non-null    object \n",
      " 74  Misc Feature     106 non-null    object \n",
      " 75  Misc Val         2930 non-null   int64  \n",
      " 76  Mo Sold          2930 non-null   int64  \n",
      " 77  Yr Sold          2930 non-null   int64  \n",
      " 78  Sale Type        2930 non-null   object \n",
      " 79  Sale Condition   2930 non-null   object \n",
      " 80  SalePrice        2930 non-null   int64  \n",
      "dtypes: float64(11), int64(27), object(43)\n",
      "memory usage: 1.8+ MB\n"
     ]
    }
   ],
   "source": [
    "df.info()"
   ]
  },
  {
   "cell_type": "markdown",
   "id": "86119125",
   "metadata": {},
   "source": [
    "- The info function tells us that there are total 2930 datapoints with 81 columns.\n",
    "- Datatype on each column is either integer or float or object. \n",
    "- It also tells us that there are some missing values in some feature column."
   ]
  },
  {
   "cell_type": "code",
   "execution_count": 6,
   "id": "48322a67",
   "metadata": {},
   "outputs": [],
   "source": [
    "#df.describe().transpose()"
   ]
  },
  {
   "cell_type": "markdown",
   "id": "8962b6a2",
   "metadata": {},
   "source": [
    "## Feature Engineering\n",
    "### Dealing with Outliers."
   ]
  },
  {
   "cell_type": "code",
   "execution_count": 7,
   "id": "274a8e05",
   "metadata": {},
   "outputs": [
    {
     "data": {
      "text/plain": [
       "Garage Area     0.640401\n",
       "Garage Cars     0.647877\n",
       "Gr Liv Area     0.706780\n",
       "Overall Qual    0.799262\n",
       "Name: SalePrice, dtype: float64"
      ]
     },
     "execution_count": 7,
     "metadata": {},
     "output_type": "execute_result"
    }
   ],
   "source": [
    "df.corr()['SalePrice'].sort_values()[-5:-1]"
   ]
  },
  {
   "cell_type": "markdown",
   "id": "42af666d",
   "metadata": {},
   "source": [
    "- `Overall Qual`and `Gr Liv Area` are highly correlated with SalePrice.\n",
    "- Let's try to plot Sale pirce vs these features."
   ]
  },
  {
   "cell_type": "code",
   "execution_count": 8,
   "id": "12305e2b",
   "metadata": {
    "scrolled": true
   },
   "outputs": [
    {
     "data": {
      "text/plain": [
       "<matplotlib.lines.Line2D at 0x1a054ff3c08>"
      ]
     },
     "execution_count": 8,
     "metadata": {},
     "output_type": "execute_result"
    },
    {
     "data": {
      "image/png": "[encoded data removed]",
      "text/plain": [
       "<Figure size 500x200 with 1 Axes>"
      ]
     },
     "metadata": {
      "needs_background": "light"
     },
     "output_type": "display_data"
    }
   ],
   "source": [
    "plt.figure(figsize=(5,2), dpi=100)\n",
    "sns.scatterplot(x='Overall Qual',y='SalePrice',data=df);\n",
    "plt.axhline(y=200000, color='black')"
   ]
  },
  {
   "cell_type": "markdown",
   "id": "fed6b927",
   "metadata": {},
   "source": [
    "\n",
    "- Plotting relationship between `Price` and `Overall Quality` we can see that there are two houses whose overall quality is above 8 but are undervalued.\n",
    "- We want to build a model which do not predict undervalued prices as it mighr upset the owner.\n",
    "- Lets identify these houses below."
   ]
  },
  {
   "cell_type": "code",
   "execution_count": 9,
   "id": "9e940f95",
   "metadata": {},
   "outputs": [
    {
     "data": {
      "text/html": [
       "<div>\n",
       "<style scoped>\n",
       "    .dataframe tbody tr th:only-of-type {\n",
       "        vertical-align: middle;\n",
       "    }\n",
       "\n",
       "    .dataframe tbody tr th {\n",
       "        vertical-align: top;\n",
       "    }\n",
       "\n",
       "    .dataframe thead th {\n",
       "        text-align: right;\n",
       "    }\n",
       "</style>\n",
       "<table border=\"1\" class=\"dataframe\">\n",
       "  <thead>\n",
       "    <tr style=\"text-align: right;\">\n",
       "      <th></th>\n",
       "      <th>PID</th>\n",
       "      <th>MS SubClass</th>\n",
       "      <th>MS Zoning</th>\n",
       "      <th>Lot Frontage</th>\n",
       "      <th>Lot Area</th>\n",
       "      <th>Street</th>\n",
       "      <th>Alley</th>\n",
       "      <th>Lot Shape</th>\n",
       "      <th>Land Contour</th>\n",
       "      <th>Utilities</th>\n",
       "      <th>...</th>\n",
       "      <th>Pool Area</th>\n",
       "      <th>Pool QC</th>\n",
       "      <th>Fence</th>\n",
       "      <th>Misc Feature</th>\n",
       "      <th>Misc Val</th>\n",
       "      <th>Mo Sold</th>\n",
       "      <th>Yr Sold</th>\n",
       "      <th>Sale Type</th>\n",
       "      <th>Sale Condition</th>\n",
       "      <th>SalePrice</th>\n",
       "    </tr>\n",
       "  </thead>\n",
       "  <tbody>\n",
       "    <tr>\n",
       "      <th>1182</th>\n",
       "      <td>533350090</td>\n",
       "      <td>60</td>\n",
       "      <td>RL</td>\n",
       "      <td>NaN</td>\n",
       "      <td>24572</td>\n",
       "      <td>Pave</td>\n",
       "      <td>NaN</td>\n",
       "      <td>IR1</td>\n",
       "      <td>Lvl</td>\n",
       "      <td>AllPub</td>\n",
       "      <td>...</td>\n",
       "      <td>0</td>\n",
       "      <td>NaN</td>\n",
       "      <td>NaN</td>\n",
       "      <td>NaN</td>\n",
       "      <td>0</td>\n",
       "      <td>6</td>\n",
       "      <td>2008</td>\n",
       "      <td>WD</td>\n",
       "      <td>Family</td>\n",
       "      <td>150000</td>\n",
       "    </tr>\n",
       "    <tr>\n",
       "      <th>1498</th>\n",
       "      <td>908154235</td>\n",
       "      <td>60</td>\n",
       "      <td>RL</td>\n",
       "      <td>313.0</td>\n",
       "      <td>63887</td>\n",
       "      <td>Pave</td>\n",
       "      <td>NaN</td>\n",
       "      <td>IR3</td>\n",
       "      <td>Bnk</td>\n",
       "      <td>AllPub</td>\n",
       "      <td>...</td>\n",
       "      <td>480</td>\n",
       "      <td>Gd</td>\n",
       "      <td>NaN</td>\n",
       "      <td>NaN</td>\n",
       "      <td>0</td>\n",
       "      <td>1</td>\n",
       "      <td>2008</td>\n",
       "      <td>New</td>\n",
       "      <td>Partial</td>\n",
       "      <td>160000</td>\n",
       "    </tr>\n",
       "    <tr>\n",
       "      <th>2180</th>\n",
       "      <td>908154195</td>\n",
       "      <td>20</td>\n",
       "      <td>RL</td>\n",
       "      <td>128.0</td>\n",
       "      <td>39290</td>\n",
       "      <td>Pave</td>\n",
       "      <td>NaN</td>\n",
       "      <td>IR1</td>\n",
       "      <td>Bnk</td>\n",
       "      <td>AllPub</td>\n",
       "      <td>...</td>\n",
       "      <td>0</td>\n",
       "      <td>NaN</td>\n",
       "      <td>NaN</td>\n",
       "      <td>Elev</td>\n",
       "      <td>17000</td>\n",
       "      <td>10</td>\n",
       "      <td>2007</td>\n",
       "      <td>New</td>\n",
       "      <td>Partial</td>\n",
       "      <td>183850</td>\n",
       "    </tr>\n",
       "    <tr>\n",
       "      <th>2181</th>\n",
       "      <td>908154205</td>\n",
       "      <td>60</td>\n",
       "      <td>RL</td>\n",
       "      <td>130.0</td>\n",
       "      <td>40094</td>\n",
       "      <td>Pave</td>\n",
       "      <td>NaN</td>\n",
       "      <td>IR1</td>\n",
       "      <td>Bnk</td>\n",
       "      <td>AllPub</td>\n",
       "      <td>...</td>\n",
       "      <td>0</td>\n",
       "      <td>NaN</td>\n",
       "      <td>NaN</td>\n",
       "      <td>NaN</td>\n",
       "      <td>0</td>\n",
       "      <td>10</td>\n",
       "      <td>2007</td>\n",
       "      <td>New</td>\n",
       "      <td>Partial</td>\n",
       "      <td>184750</td>\n",
       "    </tr>\n",
       "  </tbody>\n",
       "</table>\n",
       "<p>4 rows × 81 columns</p>\n",
       "</div>"
      ],
      "text/plain": [
       "            PID  MS SubClass MS Zoning  Lot Frontage  Lot Area Street Alley  \\\n",
       "1182  533350090           60        RL           NaN     24572   Pave   NaN   \n",
       "1498  908154235           60        RL         313.0     63887   Pave   NaN   \n",
       "2180  908154195           20        RL         128.0     39290   Pave   NaN   \n",
       "2181  908154205           60        RL         130.0     40094   Pave   NaN   \n",
       "\n",
       "     Lot Shape Land Contour Utilities  ... Pool Area Pool QC Fence  \\\n",
       "1182       IR1          Lvl    AllPub  ...         0     NaN   NaN   \n",
       "1498       IR3          Bnk    AllPub  ...       480      Gd   NaN   \n",
       "2180       IR1          Bnk    AllPub  ...         0     NaN   NaN   \n",
       "2181       IR1          Bnk    AllPub  ...         0     NaN   NaN   \n",
       "\n",
       "     Misc Feature Misc Val Mo Sold Yr Sold  Sale Type  Sale Condition  \\\n",
       "1182          NaN        0       6    2008        WD           Family   \n",
       "1498          NaN        0       1    2008        New         Partial   \n",
       "2180         Elev    17000      10    2007        New         Partial   \n",
       "2181          NaN        0      10    2007        New         Partial   \n",
       "\n",
       "      SalePrice  \n",
       "1182     150000  \n",
       "1498     160000  \n",
       "2180     183850  \n",
       "2181     184750  \n",
       "\n",
       "[4 rows x 81 columns]"
      ]
     },
     "execution_count": 9,
     "metadata": {},
     "output_type": "execute_result"
    }
   ],
   "source": [
    "df[(df['Overall Qual']>8) & (df['SalePrice']<200000)]"
   ]
  },
  {
   "cell_type": "markdown",
   "id": "8e73c04c",
   "metadata": {},
   "source": [
    "- Turns out there are 4 houses which were sold at undervalued prices.\n",
    "- Lets further check the relation of house `Price` with `Living area`."
   ]
  },
  {
   "cell_type": "code",
   "execution_count": 10,
   "id": "5018a1f1",
   "metadata": {},
   "outputs": [
    {
     "data": {
      "text/plain": [
       "<matplotlib.lines.Line2D at 0x1a0557b9708>"
      ]
     },
     "execution_count": 10,
     "metadata": {},
     "output_type": "execute_result"
    },
    {
     "data": {
      "image/png": "[encoded data removed]",
      "text/plain": [
       "<Figure size 600x300 with 1 Axes>"
      ]
     },
     "metadata": {
      "needs_background": "light"
     },
     "output_type": "display_data"
    }
   ],
   "source": [
    "plt.figure(figsize=(6,3), dpi=100)\n",
    "sns.scatterplot(x='Gr Liv Area',y='SalePrice',data=df)\n",
    "plt.axvline(x=4500, color='black')"
   ]
  },
  {
   "cell_type": "markdown",
   "id": "e50411a4",
   "metadata": {},
   "source": [
    "- In the scatterplot above we see there are three houses in particular which have been undervalued.\n",
    "- We will check if any of these houses matches with the houses we found from previous plot."
   ]
  },
  {
   "cell_type": "code",
   "execution_count": 11,
   "id": "7cbf2b54",
   "metadata": {},
   "outputs": [
    {
     "data": {
      "text/html": [
       "<div>\n",
       "<style scoped>\n",
       "    .dataframe tbody tr th:only-of-type {\n",
       "        vertical-align: middle;\n",
       "    }\n",
       "\n",
       "    .dataframe tbody tr th {\n",
       "        vertical-align: top;\n",
       "    }\n",
       "\n",
       "    .dataframe thead th {\n",
       "        text-align: right;\n",
       "    }\n",
       "</style>\n",
       "<table border=\"1\" class=\"dataframe\">\n",
       "  <thead>\n",
       "    <tr style=\"text-align: right;\">\n",
       "      <th></th>\n",
       "      <th>PID</th>\n",
       "      <th>MS SubClass</th>\n",
       "      <th>MS Zoning</th>\n",
       "      <th>Lot Frontage</th>\n",
       "      <th>Lot Area</th>\n",
       "      <th>Street</th>\n",
       "      <th>Alley</th>\n",
       "      <th>Lot Shape</th>\n",
       "      <th>Land Contour</th>\n",
       "      <th>Utilities</th>\n",
       "      <th>...</th>\n",
       "      <th>Pool Area</th>\n",
       "      <th>Pool QC</th>\n",
       "      <th>Fence</th>\n",
       "      <th>Misc Feature</th>\n",
       "      <th>Misc Val</th>\n",
       "      <th>Mo Sold</th>\n",
       "      <th>Yr Sold</th>\n",
       "      <th>Sale Type</th>\n",
       "      <th>Sale Condition</th>\n",
       "      <th>SalePrice</th>\n",
       "    </tr>\n",
       "  </thead>\n",
       "  <tbody>\n",
       "    <tr>\n",
       "      <th>1498</th>\n",
       "      <td>908154235</td>\n",
       "      <td>60</td>\n",
       "      <td>RL</td>\n",
       "      <td>313.0</td>\n",
       "      <td>63887</td>\n",
       "      <td>Pave</td>\n",
       "      <td>NaN</td>\n",
       "      <td>IR3</td>\n",
       "      <td>Bnk</td>\n",
       "      <td>AllPub</td>\n",
       "      <td>...</td>\n",
       "      <td>480</td>\n",
       "      <td>Gd</td>\n",
       "      <td>NaN</td>\n",
       "      <td>NaN</td>\n",
       "      <td>0</td>\n",
       "      <td>1</td>\n",
       "      <td>2008</td>\n",
       "      <td>New</td>\n",
       "      <td>Partial</td>\n",
       "      <td>160000</td>\n",
       "    </tr>\n",
       "    <tr>\n",
       "      <th>2180</th>\n",
       "      <td>908154195</td>\n",
       "      <td>20</td>\n",
       "      <td>RL</td>\n",
       "      <td>128.0</td>\n",
       "      <td>39290</td>\n",
       "      <td>Pave</td>\n",
       "      <td>NaN</td>\n",
       "      <td>IR1</td>\n",
       "      <td>Bnk</td>\n",
       "      <td>AllPub</td>\n",
       "      <td>...</td>\n",
       "      <td>0</td>\n",
       "      <td>NaN</td>\n",
       "      <td>NaN</td>\n",
       "      <td>Elev</td>\n",
       "      <td>17000</td>\n",
       "      <td>10</td>\n",
       "      <td>2007</td>\n",
       "      <td>New</td>\n",
       "      <td>Partial</td>\n",
       "      <td>183850</td>\n",
       "    </tr>\n",
       "    <tr>\n",
       "      <th>2181</th>\n",
       "      <td>908154205</td>\n",
       "      <td>60</td>\n",
       "      <td>RL</td>\n",
       "      <td>130.0</td>\n",
       "      <td>40094</td>\n",
       "      <td>Pave</td>\n",
       "      <td>NaN</td>\n",
       "      <td>IR1</td>\n",
       "      <td>Bnk</td>\n",
       "      <td>AllPub</td>\n",
       "      <td>...</td>\n",
       "      <td>0</td>\n",
       "      <td>NaN</td>\n",
       "      <td>NaN</td>\n",
       "      <td>NaN</td>\n",
       "      <td>0</td>\n",
       "      <td>10</td>\n",
       "      <td>2007</td>\n",
       "      <td>New</td>\n",
       "      <td>Partial</td>\n",
       "      <td>184750</td>\n",
       "    </tr>\n",
       "  </tbody>\n",
       "</table>\n",
       "<p>3 rows × 81 columns</p>\n",
       "</div>"
      ],
      "text/plain": [
       "            PID  MS SubClass MS Zoning  Lot Frontage  Lot Area Street Alley  \\\n",
       "1498  908154235           60        RL         313.0     63887   Pave   NaN   \n",
       "2180  908154195           20        RL         128.0     39290   Pave   NaN   \n",
       "2181  908154205           60        RL         130.0     40094   Pave   NaN   \n",
       "\n",
       "     Lot Shape Land Contour Utilities  ... Pool Area Pool QC Fence  \\\n",
       "1498       IR3          Bnk    AllPub  ...       480      Gd   NaN   \n",
       "2180       IR1          Bnk    AllPub  ...         0     NaN   NaN   \n",
       "2181       IR1          Bnk    AllPub  ...         0     NaN   NaN   \n",
       "\n",
       "     Misc Feature Misc Val Mo Sold Yr Sold  Sale Type  Sale Condition  \\\n",
       "1498          NaN        0       1    2008        New         Partial   \n",
       "2180         Elev    17000      10    2007        New         Partial   \n",
       "2181          NaN        0      10    2007        New         Partial   \n",
       "\n",
       "      SalePrice  \n",
       "1498     160000  \n",
       "2180     183850  \n",
       "2181     184750  \n",
       "\n",
       "[3 rows x 81 columns]"
      ]
     },
     "execution_count": 11,
     "metadata": {},
     "output_type": "execute_result"
    }
   ],
   "source": [
    "df[(df['Gr Liv Area']>4000) & (df['SalePrice']<400000)]"
   ]
  },
  {
   "cell_type": "markdown",
   "id": "c537bfe4",
   "metadata": {},
   "source": [
    "- These three houses are the same houses which we found from the previous plot.\n",
    "- As these houses are outlier we will simply drop them from dataset."
   ]
  },
  {
   "cell_type": "code",
   "execution_count": 12,
   "id": "7603747d",
   "metadata": {},
   "outputs": [],
   "source": [
    "ind_drop = df[(df['Overall Qual']>8) & (df['SalePrice']<200000)].index"
   ]
  },
  {
   "cell_type": "code",
   "execution_count": 13,
   "id": "680f7ff4",
   "metadata": {},
   "outputs": [],
   "source": [
    "df = df.drop(ind_drop,axis=0)"
   ]
  },
  {
   "cell_type": "code",
   "execution_count": 14,
   "id": "60ae6221",
   "metadata": {},
   "outputs": [
    {
     "data": {
      "image/png": "[encoded data removed]",
      "text/plain": [
       "<Figure size 900x450 with 2 Axes>"
      ]
     },
     "metadata": {
      "needs_background": "light"
     },
     "output_type": "display_data"
    }
   ],
   "source": [
    "fig, (ax1, ax2) = plt.subplots(1, 2, dpi=150, figsize=(6,3))\n",
    "sns.scatterplot(x='Gr Liv Area',y='SalePrice',data=df, ax=ax1)\n",
    "sns.scatterplot(x='Overall Qual',y='SalePrice',data=df, ax=ax2);\n",
    "plt.tight_layout()"
   ]
  },
  {
   "cell_type": "markdown",
   "id": "5f8a9cab",
   "metadata": {},
   "source": [
    "- As can be seen in the plot above the dataset doesnot contain any outliers.\n",
    "- We can proceed towards taking into account for missing values.\n",
    "- But first lets drop the column which contains ID associated with each house. "
   ]
  },
  {
   "cell_type": "code",
   "execution_count": 15,
   "id": "e6e3fde5",
   "metadata": {},
   "outputs": [],
   "source": [
    "df = df.drop('PID',axis=1)"
   ]
  },
  {
   "cell_type": "markdown",
   "id": "9231da07",
   "metadata": {},
   "source": [
    "### Dealing with missing values"
   ]
  },
  {
   "cell_type": "markdown",
   "id": "96c12456",
   "metadata": {},
   "source": [
    "We will check the percentage of missing values in each column feature."
   ]
  },
  {
   "cell_type": "code",
   "execution_count": 16,
   "id": "2e853c5a",
   "metadata": {
    "scrolled": true
   },
   "outputs": [
    {
     "data": {
      "text/plain": [
       "MS SubClass        0.000000\n",
       "MS Zoning          0.000000\n",
       "Lot Frontage      16.712235\n",
       "Lot Area           0.000000\n",
       "Street             0.000000\n",
       "                    ...    \n",
       "Mo Sold            0.000000\n",
       "Yr Sold            0.000000\n",
       "Sale Type          0.000000\n",
       "Sale Condition     0.000000\n",
       "SalePrice          0.000000\n",
       "Length: 80, dtype: float64"
      ]
     },
     "execution_count": 16,
     "metadata": {},
     "output_type": "execute_result"
    }
   ],
   "source": [
    "df.isnull().sum()*100/len(df)"
   ]
  },
  {
   "cell_type": "markdown",
   "id": "0cba7107",
   "metadata": {},
   "source": [
    "- We will define a `Helper Function` to check for missing values after we do some `Feature Engineering`.<br>\n",
    "- It involves:\n",
    "    - Dropping the row containing missing value\n",
    "    - Dropping the enitre column.\n",
    "    - Filling the missing value using other features."
   ]
  },
  {
   "cell_type": "code",
   "execution_count": 17,
   "id": "77a282ba",
   "metadata": {},
   "outputs": [],
   "source": [
    "def percent_missing(df):\n",
    "    percent_nan = 100* df.isnull().sum() / len(df)\n",
    "    percent_nan = percent_nan[percent_nan>0].sort_values()\n",
    "    return percent_nan"
   ]
  },
  {
   "cell_type": "code",
   "execution_count": 18,
   "id": "43b96150",
   "metadata": {},
   "outputs": [],
   "source": [
    "percent_nan = percent_missing(df)"
   ]
  },
  {
   "cell_type": "code",
   "execution_count": 19,
   "id": "01219e17",
   "metadata": {},
   "outputs": [
    {
     "data": {
      "image/png": "[encoded data removed]",
      "text/plain": [
       "<Figure size 800x300 with 1 Axes>"
      ]
     },
     "metadata": {
      "needs_background": "light"
     },
     "output_type": "display_data"
    }
   ],
   "source": [
    "plt.figure(figsize=(8,3), dpi=100)\n",
    "sns.barplot(x=percent_nan.index,y=percent_nan)\n",
    "plt.xticks(rotation=90);"
   ]
  },
  {
   "cell_type": "markdown",
   "id": "d5c105ea",
   "metadata": {},
   "source": [
    "- We can categorise the columns with missing values into `three categorys`.\n",
    "    - Columns which have more than 50% values missing.\n",
    "    - Columns which has missing values between 50% to 10%.\n",
    "    - Columns which has missing values below 10%."
   ]
  },
  {
   "cell_type": "markdown",
   "id": "b81f781c",
   "metadata": {},
   "source": [
    "Lets deal with columns which has less than 1% values missing."
   ]
  },
  {
   "cell_type": "code",
   "execution_count": 20,
   "id": "f6899de9",
   "metadata": {},
   "outputs": [
    {
     "data": {
      "text/plain": [
       "(0.0, 1.0)"
      ]
     },
     "execution_count": 20,
     "metadata": {},
     "output_type": "execute_result"
    },
    {
     "data": {
      "image/png": "[encoded data removed]",
      "text/plain": [
       "<Figure size 600x300 with 1 Axes>"
      ]
     },
     "metadata": {
      "needs_background": "light"
     },
     "output_type": "display_data"
    }
   ],
   "source": [
    "plt.figure(figsize=(6,3), dpi=100)\n",
    "sns.barplot(x=percent_nan.index,y=percent_nan)\n",
    "plt.xticks(rotation=90);\n",
    "\n",
    "# Setting 1% Threshold\n",
    "plt.ylim(0,1)"
   ]
  },
  {
   "cell_type": "code",
   "execution_count": 21,
   "id": "117d782d",
   "metadata": {},
   "outputs": [
    {
     "data": {
      "text/plain": [
       "Electrical        0.034176\n",
       "Garage Area       0.034176\n",
       "Total Bsmt SF     0.034176\n",
       "Bsmt Unf SF       0.034176\n",
       "BsmtFin SF 1      0.034176\n",
       "BsmtFin SF 2      0.034176\n",
       "Garage Cars       0.034176\n",
       "Bsmt Full Bath    0.068353\n",
       "Bsmt Half Bath    0.068353\n",
       "Mas Vnr Area      0.786056\n",
       "Mas Vnr Type      0.786056\n",
       "dtype: float64"
      ]
     },
     "execution_count": 21,
     "metadata": {},
     "output_type": "execute_result"
    }
   ],
   "source": [
    "percent_nan[percent_nan < 1]"
   ]
  },
  {
   "cell_type": "markdown",
   "id": "ccb44f51",
   "metadata": {},
   "source": [
    "- Seems like there are some common types of features whose values are missing. \n",
    "- Let's check for `Basement` type column."
   ]
  },
  {
   "cell_type": "code",
   "execution_count": 22,
   "id": "72683464",
   "metadata": {},
   "outputs": [
    {
     "data": {
      "text/html": [
       "<div>\n",
       "<style scoped>\n",
       "    .dataframe tbody tr th:only-of-type {\n",
       "        vertical-align: middle;\n",
       "    }\n",
       "\n",
       "    .dataframe tbody tr th {\n",
       "        vertical-align: top;\n",
       "    }\n",
       "\n",
       "    .dataframe thead th {\n",
       "        text-align: right;\n",
       "    }\n",
       "</style>\n",
       "<table border=\"1\" class=\"dataframe\">\n",
       "  <thead>\n",
       "    <tr style=\"text-align: right;\">\n",
       "      <th></th>\n",
       "      <th>MS SubClass</th>\n",
       "      <th>MS Zoning</th>\n",
       "      <th>Lot Frontage</th>\n",
       "      <th>Lot Area</th>\n",
       "      <th>Street</th>\n",
       "      <th>Alley</th>\n",
       "      <th>Lot Shape</th>\n",
       "      <th>Land Contour</th>\n",
       "      <th>Utilities</th>\n",
       "      <th>Lot Config</th>\n",
       "      <th>...</th>\n",
       "      <th>Pool Area</th>\n",
       "      <th>Pool QC</th>\n",
       "      <th>Fence</th>\n",
       "      <th>Misc Feature</th>\n",
       "      <th>Misc Val</th>\n",
       "      <th>Mo Sold</th>\n",
       "      <th>Yr Sold</th>\n",
       "      <th>Sale Type</th>\n",
       "      <th>Sale Condition</th>\n",
       "      <th>SalePrice</th>\n",
       "    </tr>\n",
       "  </thead>\n",
       "  <tbody>\n",
       "    <tr>\n",
       "      <th>1341</th>\n",
       "      <td>20</td>\n",
       "      <td>RM</td>\n",
       "      <td>99.0</td>\n",
       "      <td>5940</td>\n",
       "      <td>Pave</td>\n",
       "      <td>NaN</td>\n",
       "      <td>IR1</td>\n",
       "      <td>Lvl</td>\n",
       "      <td>AllPub</td>\n",
       "      <td>FR3</td>\n",
       "      <td>...</td>\n",
       "      <td>0</td>\n",
       "      <td>NaN</td>\n",
       "      <td>MnPrv</td>\n",
       "      <td>NaN</td>\n",
       "      <td>0</td>\n",
       "      <td>4</td>\n",
       "      <td>2008</td>\n",
       "      <td>ConLD</td>\n",
       "      <td>Abnorml</td>\n",
       "      <td>79000</td>\n",
       "    </tr>\n",
       "  </tbody>\n",
       "</table>\n",
       "<p>1 rows × 80 columns</p>\n",
       "</div>"
      ],
      "text/plain": [
       "      MS SubClass MS Zoning  Lot Frontage  Lot Area Street Alley Lot Shape  \\\n",
       "1341           20        RM          99.0      5940   Pave   NaN       IR1   \n",
       "\n",
       "     Land Contour Utilities Lot Config  ... Pool Area Pool QC  Fence  \\\n",
       "1341          Lvl    AllPub        FR3  ...         0     NaN  MnPrv   \n",
       "\n",
       "     Misc Feature Misc Val Mo Sold  Yr Sold  Sale Type  Sale Condition  \\\n",
       "1341          NaN        0       4     2008      ConLD         Abnorml   \n",
       "\n",
       "      SalePrice  \n",
       "1341      79000  \n",
       "\n",
       "[1 rows x 80 columns]"
      ]
     },
     "execution_count": 22,
     "metadata": {},
     "output_type": "execute_result"
    }
   ],
   "source": [
    "df[df['Total Bsmt SF'].isnull()]"
   ]
  },
  {
   "cell_type": "code",
   "execution_count": 23,
   "id": "922cf925",
   "metadata": {},
   "outputs": [
    {
     "data": {
      "text/html": [
       "<div>\n",
       "<style scoped>\n",
       "    .dataframe tbody tr th:only-of-type {\n",
       "        vertical-align: middle;\n",
       "    }\n",
       "\n",
       "    .dataframe tbody tr th {\n",
       "        vertical-align: top;\n",
       "    }\n",
       "\n",
       "    .dataframe thead th {\n",
       "        text-align: right;\n",
       "    }\n",
       "</style>\n",
       "<table border=\"1\" class=\"dataframe\">\n",
       "  <thead>\n",
       "    <tr style=\"text-align: right;\">\n",
       "      <th></th>\n",
       "      <th>MS SubClass</th>\n",
       "      <th>MS Zoning</th>\n",
       "      <th>Lot Frontage</th>\n",
       "      <th>Lot Area</th>\n",
       "      <th>Street</th>\n",
       "      <th>Alley</th>\n",
       "      <th>Lot Shape</th>\n",
       "      <th>Land Contour</th>\n",
       "      <th>Utilities</th>\n",
       "      <th>Lot Config</th>\n",
       "      <th>...</th>\n",
       "      <th>Pool Area</th>\n",
       "      <th>Pool QC</th>\n",
       "      <th>Fence</th>\n",
       "      <th>Misc Feature</th>\n",
       "      <th>Misc Val</th>\n",
       "      <th>Mo Sold</th>\n",
       "      <th>Yr Sold</th>\n",
       "      <th>Sale Type</th>\n",
       "      <th>Sale Condition</th>\n",
       "      <th>SalePrice</th>\n",
       "    </tr>\n",
       "  </thead>\n",
       "  <tbody>\n",
       "    <tr>\n",
       "      <th>1341</th>\n",
       "      <td>20</td>\n",
       "      <td>RM</td>\n",
       "      <td>99.0</td>\n",
       "      <td>5940</td>\n",
       "      <td>Pave</td>\n",
       "      <td>NaN</td>\n",
       "      <td>IR1</td>\n",
       "      <td>Lvl</td>\n",
       "      <td>AllPub</td>\n",
       "      <td>FR3</td>\n",
       "      <td>...</td>\n",
       "      <td>0</td>\n",
       "      <td>NaN</td>\n",
       "      <td>MnPrv</td>\n",
       "      <td>NaN</td>\n",
       "      <td>0</td>\n",
       "      <td>4</td>\n",
       "      <td>2008</td>\n",
       "      <td>ConLD</td>\n",
       "      <td>Abnorml</td>\n",
       "      <td>79000</td>\n",
       "    </tr>\n",
       "    <tr>\n",
       "      <th>1497</th>\n",
       "      <td>20</td>\n",
       "      <td>RL</td>\n",
       "      <td>123.0</td>\n",
       "      <td>47007</td>\n",
       "      <td>Pave</td>\n",
       "      <td>NaN</td>\n",
       "      <td>IR1</td>\n",
       "      <td>Lvl</td>\n",
       "      <td>AllPub</td>\n",
       "      <td>Inside</td>\n",
       "      <td>...</td>\n",
       "      <td>0</td>\n",
       "      <td>NaN</td>\n",
       "      <td>NaN</td>\n",
       "      <td>NaN</td>\n",
       "      <td>0</td>\n",
       "      <td>7</td>\n",
       "      <td>2008</td>\n",
       "      <td>WD</td>\n",
       "      <td>Normal</td>\n",
       "      <td>284700</td>\n",
       "    </tr>\n",
       "  </tbody>\n",
       "</table>\n",
       "<p>2 rows × 80 columns</p>\n",
       "</div>"
      ],
      "text/plain": [
       "      MS SubClass MS Zoning  Lot Frontage  Lot Area Street Alley Lot Shape  \\\n",
       "1341           20        RM          99.0      5940   Pave   NaN       IR1   \n",
       "1497           20        RL         123.0     47007   Pave   NaN       IR1   \n",
       "\n",
       "     Land Contour Utilities Lot Config  ... Pool Area Pool QC  Fence  \\\n",
       "1341          Lvl    AllPub        FR3  ...         0     NaN  MnPrv   \n",
       "1497          Lvl    AllPub     Inside  ...         0     NaN    NaN   \n",
       "\n",
       "     Misc Feature Misc Val Mo Sold  Yr Sold  Sale Type  Sale Condition  \\\n",
       "1341          NaN        0       4     2008      ConLD         Abnorml   \n",
       "1497          NaN        0       7     2008        WD           Normal   \n",
       "\n",
       "      SalePrice  \n",
       "1341      79000  \n",
       "1497     284700  \n",
       "\n",
       "[2 rows x 80 columns]"
      ]
     },
     "execution_count": 23,
     "metadata": {},
     "output_type": "execute_result"
    }
   ],
   "source": [
    "df[df['Bsmt Half Bath'].isnull()]"
   ]
  },
  {
   "cell_type": "markdown",
   "id": "465ba2aa",
   "metadata": {},
   "source": [
    "- We we refer to the description of these types of columns it can be stated that `no value` means the `feature is not available` in the houese. \n",
    "- Therefore, we should fill the values with either `none` or `0`, depending on datatype of the feature. "
   ]
  },
  {
   "cell_type": "code",
   "execution_count": 24,
   "id": "6c233c41",
   "metadata": {},
   "outputs": [],
   "source": [
    "bsmt_num_cols = ['BsmtFin SF 1', 'BsmtFin SF 2', 'Bsmt Unf SF','Total Bsmt SF', 'Bsmt Full Bath', 'Bsmt Half Bath']\n",
    "df[bsmt_num_cols] = df[bsmt_num_cols].fillna(0)"
   ]
  },
  {
   "cell_type": "code",
   "execution_count": 25,
   "id": "6d135c65",
   "metadata": {},
   "outputs": [],
   "source": [
    "bsmt_str_cols =  ['Bsmt Qual', 'Bsmt Cond', 'Bsmt Exposure', 'BsmtFin Type 1', 'BsmtFin Type 2']\n",
    "df[bsmt_str_cols] = df[bsmt_str_cols].fillna('None')"
   ]
  },
  {
   "cell_type": "markdown",
   "id": "b0d2c29e",
   "metadata": {},
   "source": [
    "- Now, we check back the missing value with the `helper function` we defined above."
   ]
  },
  {
   "cell_type": "code",
   "execution_count": 26,
   "id": "c6b560f9",
   "metadata": {},
   "outputs": [
    {
     "data": {
      "text/plain": [
       "Electrical        0.034176\n",
       "Garage Cars       0.034176\n",
       "Garage Area       0.034176\n",
       "Mas Vnr Type      0.786056\n",
       "Mas Vnr Area      0.786056\n",
       "Garage Type       5.365687\n",
       "Garage Yr Blt     5.434040\n",
       "Garage Finish     5.434040\n",
       "Garage Qual       5.434040\n",
       "Garage Cond       5.434040\n",
       "Lot Frontage     16.712235\n",
       "Fireplace Qu     48.598770\n",
       "Fence            80.451128\n",
       "Alley            93.233083\n",
       "Misc Feature     96.411483\n",
       "Pool QC          99.589884\n",
       "dtype: float64"
      ]
     },
     "execution_count": 26,
     "metadata": {},
     "output_type": "execute_result"
    }
   ],
   "source": [
    "percent_nan = percent_missing(df)\n",
    "percent_nan"
   ]
  },
  {
   "cell_type": "code",
   "execution_count": 27,
   "id": "83117591",
   "metadata": {},
   "outputs": [
    {
     "data": {
      "image/png": "[encoded data removed]",
      "text/plain": [
       "<Figure size 600x200 with 1 Axes>"
      ]
     },
     "metadata": {
      "needs_background": "light"
     },
     "output_type": "display_data"
    }
   ],
   "source": [
    "plt.figure(figsize=(6,2), dpi=100)\n",
    "sns.barplot(x=percent_nan.index,y=percent_nan)\n",
    "plt.xticks(rotation=90);"
   ]
  },
  {
   "cell_type": "markdown",
   "id": "5952c73a",
   "metadata": {},
   "source": [
    "- We drop few rows as they only make up 0.3% of the datasets. "
   ]
  },
  {
   "cell_type": "code",
   "execution_count": 28,
   "id": "a206f7f8",
   "metadata": {},
   "outputs": [],
   "source": [
    "df = df.dropna(axis=0,subset= ['Electrical','Garage Cars'])"
   ]
  },
  {
   "cell_type": "code",
   "execution_count": 29,
   "id": "693bb124",
   "metadata": {},
   "outputs": [],
   "source": [
    "percent_nan = percent_missing(df)"
   ]
  },
  {
   "cell_type": "code",
   "execution_count": 30,
   "id": "89ab6496",
   "metadata": {
    "scrolled": true
   },
   "outputs": [
    {
     "data": {
      "text/plain": [
       "(0.0, 1.0)"
      ]
     },
     "execution_count": 30,
     "metadata": {},
     "output_type": "execute_result"
    },
    {
     "data": {
      "image/png": "[encoded data removed]",
      "text/plain": [
       "<Figure size 400x150 with 1 Axes>"
      ]
     },
     "metadata": {
      "needs_background": "light"
     },
     "output_type": "display_data"
    }
   ],
   "source": [
    "plt.figure(figsize=(4,1.5), dpi=100)\n",
    "sns.barplot(x=percent_nan.index,y=percent_nan)\n",
    "plt.xticks(rotation=90);\n",
    "plt.ylim(0,1)"
   ]
  },
  {
   "cell_type": "markdown",
   "id": "930b22eb",
   "metadata": {},
   "source": [
    "- We now deal with features of type `Masonry veneer` and `Garage`.\n",
    "- After checking from description we can treat these features as we treated `Basement` as the values means the same thing."
   ]
  },
  {
   "cell_type": "code",
   "execution_count": null,
   "id": "b106be2d",
   "metadata": {},
   "outputs": [],
   "source": []
  },
  {
   "cell_type": "code",
   "execution_count": 31,
   "id": "e94df83b",
   "metadata": {},
   "outputs": [],
   "source": [
    "df[\"Mas Vnr Type\"] = df[\"Mas Vnr Type\"].fillna(\"None\")\n",
    "df[\"Mas Vnr Area\"] = df[\"Mas Vnr Area\"].fillna(0)"
   ]
  },
  {
   "cell_type": "code",
   "execution_count": 32,
   "id": "aacb5085",
   "metadata": {},
   "outputs": [],
   "source": [
    "percent_nan = percent_missing(df)"
   ]
  },
  {
   "cell_type": "code",
   "execution_count": 33,
   "id": "d27aa956",
   "metadata": {},
   "outputs": [
    {
     "data": {
      "image/png": "[encoded data removed]",
      "text/plain": [
       "<Figure size 600x200 with 1 Axes>"
      ]
     },
     "metadata": {
      "needs_background": "light"
     },
     "output_type": "display_data"
    }
   ],
   "source": [
    "plt.figure(figsize=(6,2), dpi=100)\n",
    "sns.barplot(x=percent_nan.index,y=percent_nan)\n",
    "plt.xticks(rotation=90);"
   ]
  },
  {
   "cell_type": "code",
   "execution_count": 34,
   "id": "ad8bd485",
   "metadata": {},
   "outputs": [
    {
     "data": {
      "text/html": [
       "<div>\n",
       "<style scoped>\n",
       "    .dataframe tbody tr th:only-of-type {\n",
       "        vertical-align: middle;\n",
       "    }\n",
       "\n",
       "    .dataframe tbody tr th {\n",
       "        vertical-align: top;\n",
       "    }\n",
       "\n",
       "    .dataframe thead th {\n",
       "        text-align: right;\n",
       "    }\n",
       "</style>\n",
       "<table border=\"1\" class=\"dataframe\">\n",
       "  <thead>\n",
       "    <tr style=\"text-align: right;\">\n",
       "      <th></th>\n",
       "      <th>Garage Type</th>\n",
       "      <th>Garage Finish</th>\n",
       "      <th>Garage Qual</th>\n",
       "      <th>Garage Cond</th>\n",
       "    </tr>\n",
       "  </thead>\n",
       "  <tbody>\n",
       "    <tr>\n",
       "      <th>0</th>\n",
       "      <td>Attchd</td>\n",
       "      <td>Fin</td>\n",
       "      <td>TA</td>\n",
       "      <td>TA</td>\n",
       "    </tr>\n",
       "    <tr>\n",
       "      <th>1</th>\n",
       "      <td>Attchd</td>\n",
       "      <td>Unf</td>\n",
       "      <td>TA</td>\n",
       "      <td>TA</td>\n",
       "    </tr>\n",
       "    <tr>\n",
       "      <th>2</th>\n",
       "      <td>Attchd</td>\n",
       "      <td>Unf</td>\n",
       "      <td>TA</td>\n",
       "      <td>TA</td>\n",
       "    </tr>\n",
       "    <tr>\n",
       "      <th>3</th>\n",
       "      <td>Attchd</td>\n",
       "      <td>Fin</td>\n",
       "      <td>TA</td>\n",
       "      <td>TA</td>\n",
       "    </tr>\n",
       "    <tr>\n",
       "      <th>4</th>\n",
       "      <td>Attchd</td>\n",
       "      <td>Fin</td>\n",
       "      <td>TA</td>\n",
       "      <td>TA</td>\n",
       "    </tr>\n",
       "    <tr>\n",
       "      <th>...</th>\n",
       "      <td>...</td>\n",
       "      <td>...</td>\n",
       "      <td>...</td>\n",
       "      <td>...</td>\n",
       "    </tr>\n",
       "    <tr>\n",
       "      <th>2925</th>\n",
       "      <td>Detchd</td>\n",
       "      <td>Unf</td>\n",
       "      <td>TA</td>\n",
       "      <td>TA</td>\n",
       "    </tr>\n",
       "    <tr>\n",
       "      <th>2926</th>\n",
       "      <td>Attchd</td>\n",
       "      <td>Unf</td>\n",
       "      <td>TA</td>\n",
       "      <td>TA</td>\n",
       "    </tr>\n",
       "    <tr>\n",
       "      <th>2927</th>\n",
       "      <td>NaN</td>\n",
       "      <td>NaN</td>\n",
       "      <td>NaN</td>\n",
       "      <td>NaN</td>\n",
       "    </tr>\n",
       "    <tr>\n",
       "      <th>2928</th>\n",
       "      <td>Attchd</td>\n",
       "      <td>RFn</td>\n",
       "      <td>TA</td>\n",
       "      <td>TA</td>\n",
       "    </tr>\n",
       "    <tr>\n",
       "      <th>2929</th>\n",
       "      <td>Attchd</td>\n",
       "      <td>Fin</td>\n",
       "      <td>TA</td>\n",
       "      <td>TA</td>\n",
       "    </tr>\n",
       "  </tbody>\n",
       "</table>\n",
       "<p>2924 rows × 4 columns</p>\n",
       "</div>"
      ],
      "text/plain": [
       "     Garage Type Garage Finish Garage Qual Garage Cond\n",
       "0         Attchd           Fin          TA          TA\n",
       "1         Attchd           Unf          TA          TA\n",
       "2         Attchd           Unf          TA          TA\n",
       "3         Attchd           Fin          TA          TA\n",
       "4         Attchd           Fin          TA          TA\n",
       "...          ...           ...         ...         ...\n",
       "2925      Detchd           Unf          TA          TA\n",
       "2926      Attchd           Unf          TA          TA\n",
       "2927         NaN           NaN         NaN         NaN\n",
       "2928      Attchd           RFn          TA          TA\n",
       "2929      Attchd           Fin          TA          TA\n",
       "\n",
       "[2924 rows x 4 columns]"
      ]
     },
     "execution_count": 34,
     "metadata": {},
     "output_type": "execute_result"
    }
   ],
   "source": [
    "df[['Garage Type', 'Garage Finish', 'Garage Qual', 'Garage Cond']]"
   ]
  },
  {
   "cell_type": "code",
   "execution_count": 35,
   "id": "f4bbb812",
   "metadata": {},
   "outputs": [],
   "source": [
    "gar_str_cols = ['Garage Type', 'Garage Finish', 'Garage Qual', 'Garage Cond']\n",
    "df[gar_str_cols] = df[gar_str_cols].fillna('None')"
   ]
  },
  {
   "cell_type": "code",
   "execution_count": 36,
   "id": "8053b905",
   "metadata": {},
   "outputs": [],
   "source": [
    "df['Garage Yr Blt'] = df['Garage Yr Blt'].fillna(0)"
   ]
  },
  {
   "cell_type": "code",
   "execution_count": 37,
   "id": "98d6f152",
   "metadata": {},
   "outputs": [],
   "source": [
    "percent_nan = percent_missing(df)"
   ]
  },
  {
   "cell_type": "code",
   "execution_count": 38,
   "id": "357e1dd9",
   "metadata": {},
   "outputs": [
    {
     "data": {
      "image/png": "[encoded data removed]",
      "text/plain": [
       "<Figure size 600x200 with 1 Axes>"
      ]
     },
     "metadata": {
      "needs_background": "light"
     },
     "output_type": "display_data"
    }
   ],
   "source": [
    "plt.figure(figsize=(6,2), dpi=100)\n",
    "sns.barplot(x=percent_nan.index,y=percent_nan)\n",
    "plt.xticks(rotation=90);"
   ]
  },
  {
   "cell_type": "code",
   "execution_count": 39,
   "id": "aa16f762",
   "metadata": {},
   "outputs": [
    {
     "data": {
      "text/plain": [
       "Index(['Lot Frontage', 'Fireplace Qu', 'Fence', 'Alley', 'Misc Feature',\n",
       "       'Pool QC'],\n",
       "      dtype='object')"
      ]
     },
     "execution_count": 39,
     "metadata": {},
     "output_type": "execute_result"
    }
   ],
   "source": [
    "percent_nan.index"
   ]
  },
  {
   "cell_type": "markdown",
   "id": "13311d62",
   "metadata": {},
   "source": [
    "- We drop columns which has more than 50% missing values."
   ]
  },
  {
   "cell_type": "code",
   "execution_count": 40,
   "id": "5318982e",
   "metadata": {},
   "outputs": [],
   "source": [
    "df = df.drop(['Pool QC','Misc Feature','Alley','Fence'],axis=1)"
   ]
  },
  {
   "cell_type": "code",
   "execution_count": 41,
   "id": "8a93684f",
   "metadata": {},
   "outputs": [],
   "source": [
    "percent_nan = percent_missing(df)"
   ]
  },
  {
   "cell_type": "code",
   "execution_count": 42,
   "id": "32266ca2",
   "metadata": {},
   "outputs": [
    {
     "data": {
      "image/png": "[encoded data removed]",
      "text/plain": [
       "<Figure size 600x200 with 1 Axes>"
      ]
     },
     "metadata": {
      "needs_background": "light"
     },
     "output_type": "display_data"
    }
   ],
   "source": [
    "plt.figure(figsize=(6,2), dpi=100)\n",
    "sns.barplot(x=percent_nan.index,y=percent_nan)\n",
    "plt.xticks(rotation=90);"
   ]
  },
  {
   "cell_type": "markdown",
   "id": "80220969",
   "metadata": {},
   "source": [
    "- No values in `Fireplace` feature means the place doesnot have any fireplace. Since it is a object type, we fill the missing value by `none`"
   ]
  },
  {
   "cell_type": "code",
   "execution_count": 43,
   "id": "0ab78777",
   "metadata": {},
   "outputs": [],
   "source": [
    "df['Fireplace Qu'] = df['Fireplace Qu'].fillna(\"None\")"
   ]
  },
  {
   "cell_type": "code",
   "execution_count": 44,
   "id": "876edf20",
   "metadata": {},
   "outputs": [],
   "source": [
    "percent_nan = percent_missing(df)"
   ]
  },
  {
   "cell_type": "code",
   "execution_count": 45,
   "id": "f824e53e",
   "metadata": {
    "scrolled": true
   },
   "outputs": [
    {
     "data": {
      "image/png": "[encoded data removed]",
      "text/plain": [
       "<Figure size 600x200 with 1 Axes>"
      ]
     },
     "metadata": {
      "needs_background": "light"
     },
     "output_type": "display_data"
    }
   ],
   "source": [
    "plt.figure(figsize=(6,2), dpi=100)\n",
    "sns.barplot(x=percent_nan.index,y=percent_nan)\n",
    "plt.xticks(rotation=90);"
   ]
  },
  {
   "cell_type": "markdown",
   "id": "b3981c2c",
   "metadata": {},
   "source": [
    "- Let's try to fill the missing value in `Lot Front` by the average value of front lot area in the `neighbour`. \n",
    "- By doing this we are assuming that each neighbourhood have similar size of front lot areas.\n",
    "- I did not knew how to solve this problem at first hand. So I refered to a online source on [dataquest](https://stackoverflow.com/questions/19966018/pandas-filling-missing-values-by-mean-in-each-group)."
   ]
  },
  {
   "cell_type": "code",
   "execution_count": 46,
   "id": "8eb4dee5",
   "metadata": {},
   "outputs": [],
   "source": [
    "df['Lot Frontage'] = df.groupby('Neighborhood')['Lot Frontage'].transform(lambda val: val.fillna(val.mean()))"
   ]
  },
  {
   "cell_type": "code",
   "execution_count": 47,
   "id": "e88b9199",
   "metadata": {},
   "outputs": [],
   "source": [
    "percent_nan = percent_missing(df)"
   ]
  },
  {
   "cell_type": "code",
   "execution_count": 48,
   "id": "c11065da",
   "metadata": {},
   "outputs": [
    {
     "data": {
      "image/png": "[encoded data removed]",
      "text/plain": [
       "<Figure size 600x400 with 1 Axes>"
      ]
     },
     "metadata": {
      "needs_background": "light"
     },
     "output_type": "display_data"
    }
   ],
   "source": [
    "plt.figure(dpi=100)\n",
    "sns.barplot(x=percent_nan.index,y=percent_nan)\n",
    "plt.xticks(rotation=90);"
   ]
  },
  {
   "cell_type": "markdown",
   "id": "c3c180a0",
   "metadata": {},
   "source": [
    "- We now just fill `0` for the missing values in `Lot Front Area`."
   ]
  },
  {
   "cell_type": "code",
   "execution_count": 49,
   "id": "646028d8",
   "metadata": {},
   "outputs": [],
   "source": [
    "df['Lot Frontage'] = df['Lot Frontage'].fillna(0)"
   ]
  },
  {
   "cell_type": "code",
   "execution_count": 50,
   "id": "b4d7894a",
   "metadata": {},
   "outputs": [],
   "source": [
    "percent_nan = percent_missing(df)"
   ]
  },
  {
   "cell_type": "code",
   "execution_count": 51,
   "id": "9f0b42c2",
   "metadata": {},
   "outputs": [
    {
     "data": {
      "text/plain": [
       "Series([], dtype: float64)"
      ]
     },
     "execution_count": 51,
     "metadata": {},
     "output_type": "execute_result"
    }
   ],
   "source": [
    "percent_nan"
   ]
  },
  {
   "cell_type": "markdown",
   "id": "485c4faf",
   "metadata": {},
   "source": [
    "### Dealing with categorical data.\n",
    "1. We first convert `MS SubClass` in to string as it is categorical feature but has been entered as numeric.\n",
    "2. Separate numeric features from categorical features.\n",
    "3. Create dummies for categorical features.\n",
    "4. Concatenate the dummy variables with numerical to get our final dataframe."
   ]
  },
  {
   "cell_type": "code",
   "execution_count": 52,
   "id": "7305dad7",
   "metadata": {},
   "outputs": [],
   "source": [
    "df['MS SubClass'] = df['MS SubClass'].apply(str)"
   ]
  },
  {
   "cell_type": "code",
   "execution_count": 53,
   "id": "ee9bfb5a",
   "metadata": {},
   "outputs": [],
   "source": [
    "df_nums = df.select_dtypes(exclude='object')\n",
    "df_objs = df.select_dtypes(include='object')"
   ]
  },
  {
   "cell_type": "code",
   "execution_count": 54,
   "id": "4a98c732",
   "metadata": {},
   "outputs": [],
   "source": [
    "df_objs = pd.get_dummies(df_objs,drop_first=True)"
   ]
  },
  {
   "cell_type": "code",
   "execution_count": 55,
   "id": "29f1e82a",
   "metadata": {},
   "outputs": [],
   "source": [
    "final_df = pd.concat([df_nums,df_objs],axis=1)"
   ]
  },
  {
   "cell_type": "code",
   "execution_count": 56,
   "id": "663d8567",
   "metadata": {},
   "outputs": [
    {
     "data": {
      "text/html": [
       "<div>\n",
       "<style scoped>\n",
       "    .dataframe tbody tr th:only-of-type {\n",
       "        vertical-align: middle;\n",
       "    }\n",
       "\n",
       "    .dataframe tbody tr th {\n",
       "        vertical-align: top;\n",
       "    }\n",
       "\n",
       "    .dataframe thead th {\n",
       "        text-align: right;\n",
       "    }\n",
       "</style>\n",
       "<table border=\"1\" class=\"dataframe\">\n",
       "  <thead>\n",
       "    <tr style=\"text-align: right;\">\n",
       "      <th></th>\n",
       "      <th>Lot Frontage</th>\n",
       "      <th>Lot Area</th>\n",
       "      <th>Overall Qual</th>\n",
       "      <th>Overall Cond</th>\n",
       "      <th>Year Built</th>\n",
       "      <th>Year Remod/Add</th>\n",
       "      <th>Mas Vnr Area</th>\n",
       "      <th>BsmtFin SF 1</th>\n",
       "      <th>BsmtFin SF 2</th>\n",
       "      <th>Bsmt Unf SF</th>\n",
       "      <th>...</th>\n",
       "      <th>Sale Type_ConLw</th>\n",
       "      <th>Sale Type_New</th>\n",
       "      <th>Sale Type_Oth</th>\n",
       "      <th>Sale Type_VWD</th>\n",
       "      <th>Sale Type_WD</th>\n",
       "      <th>Sale Condition_AdjLand</th>\n",
       "      <th>Sale Condition_Alloca</th>\n",
       "      <th>Sale Condition_Family</th>\n",
       "      <th>Sale Condition_Normal</th>\n",
       "      <th>Sale Condition_Partial</th>\n",
       "    </tr>\n",
       "  </thead>\n",
       "  <tbody>\n",
       "    <tr>\n",
       "      <th>0</th>\n",
       "      <td>141.0</td>\n",
       "      <td>31770</td>\n",
       "      <td>6</td>\n",
       "      <td>5</td>\n",
       "      <td>1960</td>\n",
       "      <td>1960</td>\n",
       "      <td>112.0</td>\n",
       "      <td>639.0</td>\n",
       "      <td>0.0</td>\n",
       "      <td>441.0</td>\n",
       "      <td>...</td>\n",
       "      <td>0</td>\n",
       "      <td>0</td>\n",
       "      <td>0</td>\n",
       "      <td>0</td>\n",
       "      <td>1</td>\n",
       "      <td>0</td>\n",
       "      <td>0</td>\n",
       "      <td>0</td>\n",
       "      <td>1</td>\n",
       "      <td>0</td>\n",
       "    </tr>\n",
       "    <tr>\n",
       "      <th>1</th>\n",
       "      <td>80.0</td>\n",
       "      <td>11622</td>\n",
       "      <td>5</td>\n",
       "      <td>6</td>\n",
       "      <td>1961</td>\n",
       "      <td>1961</td>\n",
       "      <td>0.0</td>\n",
       "      <td>468.0</td>\n",
       "      <td>144.0</td>\n",
       "      <td>270.0</td>\n",
       "      <td>...</td>\n",
       "      <td>0</td>\n",
       "      <td>0</td>\n",
       "      <td>0</td>\n",
       "      <td>0</td>\n",
       "      <td>1</td>\n",
       "      <td>0</td>\n",
       "      <td>0</td>\n",
       "      <td>0</td>\n",
       "      <td>1</td>\n",
       "      <td>0</td>\n",
       "    </tr>\n",
       "    <tr>\n",
       "      <th>2</th>\n",
       "      <td>81.0</td>\n",
       "      <td>14267</td>\n",
       "      <td>6</td>\n",
       "      <td>6</td>\n",
       "      <td>1958</td>\n",
       "      <td>1958</td>\n",
       "      <td>108.0</td>\n",
       "      <td>923.0</td>\n",
       "      <td>0.0</td>\n",
       "      <td>406.0</td>\n",
       "      <td>...</td>\n",
       "      <td>0</td>\n",
       "      <td>0</td>\n",
       "      <td>0</td>\n",
       "      <td>0</td>\n",
       "      <td>1</td>\n",
       "      <td>0</td>\n",
       "      <td>0</td>\n",
       "      <td>0</td>\n",
       "      <td>1</td>\n",
       "      <td>0</td>\n",
       "    </tr>\n",
       "    <tr>\n",
       "      <th>3</th>\n",
       "      <td>93.0</td>\n",
       "      <td>11160</td>\n",
       "      <td>7</td>\n",
       "      <td>5</td>\n",
       "      <td>1968</td>\n",
       "      <td>1968</td>\n",
       "      <td>0.0</td>\n",
       "      <td>1065.0</td>\n",
       "      <td>0.0</td>\n",
       "      <td>1045.0</td>\n",
       "      <td>...</td>\n",
       "      <td>0</td>\n",
       "      <td>0</td>\n",
       "      <td>0</td>\n",
       "      <td>0</td>\n",
       "      <td>1</td>\n",
       "      <td>0</td>\n",
       "      <td>0</td>\n",
       "      <td>0</td>\n",
       "      <td>1</td>\n",
       "      <td>0</td>\n",
       "    </tr>\n",
       "    <tr>\n",
       "      <th>4</th>\n",
       "      <td>74.0</td>\n",
       "      <td>13830</td>\n",
       "      <td>5</td>\n",
       "      <td>5</td>\n",
       "      <td>1997</td>\n",
       "      <td>1998</td>\n",
       "      <td>0.0</td>\n",
       "      <td>791.0</td>\n",
       "      <td>0.0</td>\n",
       "      <td>137.0</td>\n",
       "      <td>...</td>\n",
       "      <td>0</td>\n",
       "      <td>0</td>\n",
       "      <td>0</td>\n",
       "      <td>0</td>\n",
       "      <td>1</td>\n",
       "      <td>0</td>\n",
       "      <td>0</td>\n",
       "      <td>0</td>\n",
       "      <td>1</td>\n",
       "      <td>0</td>\n",
       "    </tr>\n",
       "  </tbody>\n",
       "</table>\n",
       "<p>5 rows × 274 columns</p>\n",
       "</div>"
      ],
      "text/plain": [
       "   Lot Frontage  Lot Area  Overall Qual  Overall Cond  Year Built  \\\n",
       "0         141.0     31770             6             5        1960   \n",
       "1          80.0     11622             5             6        1961   \n",
       "2          81.0     14267             6             6        1958   \n",
       "3          93.0     11160             7             5        1968   \n",
       "4          74.0     13830             5             5        1997   \n",
       "\n",
       "   Year Remod/Add  Mas Vnr Area  BsmtFin SF 1  BsmtFin SF 2  Bsmt Unf SF  ...  \\\n",
       "0            1960         112.0         639.0           0.0        441.0  ...   \n",
       "1            1961           0.0         468.0         144.0        270.0  ...   \n",
       "2            1958         108.0         923.0           0.0        406.0  ...   \n",
       "3            1968           0.0        1065.0           0.0       1045.0  ...   \n",
       "4            1998           0.0         791.0           0.0        137.0  ...   \n",
       "\n",
       "   Sale Type_ConLw  Sale Type_New  Sale Type_Oth  Sale Type_VWD  \\\n",
       "0                0              0              0              0   \n",
       "1                0              0              0              0   \n",
       "2                0              0              0              0   \n",
       "3                0              0              0              0   \n",
       "4                0              0              0              0   \n",
       "\n",
       "   Sale Type_WD   Sale Condition_AdjLand  Sale Condition_Alloca  \\\n",
       "0              1                       0                      0   \n",
       "1              1                       0                      0   \n",
       "2              1                       0                      0   \n",
       "3              1                       0                      0   \n",
       "4              1                       0                      0   \n",
       "\n",
       "   Sale Condition_Family  Sale Condition_Normal  Sale Condition_Partial  \n",
       "0                      0                      1                       0  \n",
       "1                      0                      1                       0  \n",
       "2                      0                      1                       0  \n",
       "3                      0                      1                       0  \n",
       "4                      0                      1                       0  \n",
       "\n",
       "[5 rows x 274 columns]"
      ]
     },
     "execution_count": 56,
     "metadata": {},
     "output_type": "execute_result"
    }
   ],
   "source": [
    "final_df.head()"
   ]
  },
  {
   "cell_type": "code",
   "execution_count": 57,
   "id": "b3d7b435",
   "metadata": {
    "scrolled": true
   },
   "outputs": [
    {
     "name": "stdout",
     "output_type": "stream",
     "text": [
      "<class 'pandas.core.frame.DataFrame'>\n",
      "Int64Index: 2924 entries, 0 to 2929\n",
      "Columns: 274 entries, Lot Frontage to Sale Condition_Partial\n",
      "dtypes: float64(11), int64(25), uint8(238)\n",
      "memory usage: 1.5 MB\n"
     ]
    }
   ],
   "source": [
    "final_df.info()"
   ]
  },
  {
   "cell_type": "markdown",
   "id": "a8e7c4fc",
   "metadata": {},
   "source": [
    "## Exploratory Data Analysis."
   ]
  },
  {
   "cell_type": "code",
   "execution_count": 58,
   "id": "2883e21a",
   "metadata": {},
   "outputs": [
    {
     "data": {
      "image/png": "[encoded data removed]",
      "text/plain": [
       "<Figure size 800x300 with 1 Axes>"
      ]
     },
     "metadata": {
      "needs_background": "light"
     },
     "output_type": "display_data"
    }
   ],
   "source": [
    "plt.figure(figsize=(8,3), dpi=100)\n",
    "sns.histplot(df[\"SalePrice\"], kde=True);\n",
    "plt.title('Price distribution');"
   ]
  },
  {
   "cell_type": "markdown",
   "id": "d1d8877b",
   "metadata": {},
   "source": [
    "- The distribution plot shows that maximum number of houses belongs in the range of `100000` to `250000` range.\n",
    "- But there are few number of houses which are priced above `300000` mark going upto `800000` mark."
   ]
  },
  {
   "cell_type": "code",
   "execution_count": 59,
   "id": "835562f6",
   "metadata": {},
   "outputs": [
    {
     "data": {
      "image/png": "[encoded data removed]",
      "text/plain": [
       "<Figure size 900x500 with 1 Axes>"
      ]
     },
     "metadata": {
      "needs_background": "light"
     },
     "output_type": "display_data"
    }
   ],
   "source": [
    "plt.figure(figsize=(9,5), dpi=100)\n",
    "plt.xticks(rotation=90)\n",
    "plt.title('Correlation with Sale Price')\n",
    "sns.barplot(y=df.corr()['SalePrice'].sort_values()[:-1], \n",
    "            x=df.corr()['SalePrice'].sort_values()[:-1].index);"
   ]
  },
  {
   "cell_type": "code",
   "execution_count": 60,
   "id": "38184746",
   "metadata": {
    "scrolled": false
   },
   "outputs": [
    {
     "data": {
      "image/png": "[encoded data removed]",
      "text/plain": [
       "<Figure size 600x400 with 1 Axes>"
      ]
     },
     "metadata": {
      "needs_background": "light"
     },
     "output_type": "display_data"
    }
   ],
   "source": [
    "plt.figure(figsize=(6,4), dpi=100)\n",
    "sns.scatterplot(y=df.SalePrice, x=df['Overall Qual'], data=df, hue='MS Zoning');\n",
    "plt.title('Price w.r.t Zone');"
   ]
  },
  {
   "cell_type": "markdown",
   "id": "2db03e9e",
   "metadata": {},
   "source": [
    "- The Prices of houses in low density residential areas and floating village residence are higher.\n",
    "- Medium density residential areas have a wide range of prices and Quality.\n",
    "- Pricesof houses in agricultural and commerical areas range from low to medium."
   ]
  },
  {
   "cell_type": "markdown",
   "id": "13618867",
   "metadata": {},
   "source": [
    "## Model Building\n",
    "1. Separate `Independent` and `Dependent` variables into `X` and `y` respectively.\n",
    "2. Divide our dataset into `training set` and `test set`.\n",
    "3. `Scale` independent variable to `normalize` any difference in unit."
   ]
  },
  {
   "cell_type": "code",
   "execution_count": 61,
   "id": "5b6bb1ef",
   "metadata": {},
   "outputs": [],
   "source": [
    "X = final_df.drop('SalePrice',axis=1)\n",
    "y = final_df['SalePrice']"
   ]
  },
  {
   "cell_type": "code",
   "execution_count": 62,
   "id": "84ceeee6",
   "metadata": {},
   "outputs": [
    {
     "name": "stdout",
     "output_type": "stream",
     "text": [
      "<class 'pandas.core.frame.DataFrame'>\n",
      "Int64Index: 2924 entries, 0 to 2929\n",
      "Columns: 273 entries, Lot Frontage to Sale Condition_Partial\n",
      "dtypes: float64(11), int64(24), uint8(238)\n",
      "memory usage: 1.5 MB\n"
     ]
    }
   ],
   "source": [
    "X.info()"
   ]
  },
  {
   "cell_type": "markdown",
   "id": "34344b4e",
   "metadata": {},
   "source": [
    "### Importing necessary libraries."
   ]
  },
  {
   "cell_type": "code",
   "execution_count": 63,
   "id": "3008a22e",
   "metadata": {},
   "outputs": [],
   "source": [
    "from sklearn.model_selection import train_test_split\n",
    "from sklearn.preprocessing import StandardScaler\n",
    "from sklearn.linear_model import LinearRegression\n",
    "from sklearn.preprocessing import PolynomialFeatures\n",
    "from sklearn.linear_model import ElasticNet\n",
    "from sklearn.model_selection import GridSearchCV\n",
    "from sklearn.metrics import mean_absolute_error,mean_squared_error\n",
    "from sklearn.ensemble import RandomForestRegressor\n",
    "from sklearn.svm import LinearSVR "
   ]
  },
  {
   "cell_type": "code",
   "execution_count": 64,
   "id": "64d04ef2",
   "metadata": {},
   "outputs": [],
   "source": [
    "X_train, X_test, y_train, y_test = train_test_split(X, y, test_size=0.10, random_state=101)"
   ]
  },
  {
   "cell_type": "code",
   "execution_count": 65,
   "id": "64cbff54",
   "metadata": {},
   "outputs": [],
   "source": [
    "scaler = StandardScaler()"
   ]
  },
  {
   "cell_type": "code",
   "execution_count": 66,
   "id": "9856c103",
   "metadata": {},
   "outputs": [],
   "source": [
    "scaled_X_train = scaler.fit_transform(X_train)\n",
    "scaled_X_test = scaler.transform(X_test)"
   ]
  },
  {
   "cell_type": "markdown",
   "id": "b7a9303e",
   "metadata": {},
   "source": [
    "### Helper function to run each model.\n",
    "1. Takes model along with train test data.\n",
    "2. Fit train data to the model.\n",
    "3. Predict on test data.\n",
    "4. Compute `Mean Square Mean` and `Root Mean Squared Error`.\n",
    "5. Also compute average house price to compare with MAE.\n",
    "6. We compare errors across variety of models to select a model which works best for the dataset."
   ]
  },
  {
   "cell_type": "code",
   "execution_count": 67,
   "id": "f0682432",
   "metadata": {},
   "outputs": [],
   "source": [
    "def run_model(model, X_train, y_train, X_test, y_test):\n",
    "    \n",
    "    # Fit Model\n",
    "    model.fit(X_train,y_train)\n",
    "    #Predict model\n",
    "    preds = model.predict(X_test)\n",
    "    #Get metrics\n",
    "    mae=mean_absolute_error(y_test, preds)\n",
    "    rmse = np.sqrt(mean_squared_error(y_test,preds))\n",
    "    #Print metrics \n",
    "    print(f'Mean Price : {np.mean(y)}')\n",
    "    print(f'MAE : {mae}')\n",
    "    print(f'RMSE : {rmse}')\n",
    "    print(f'Percentage deviation from mean value : {np.round(100*mae/np.mean(y),2)}')\n",
    "    "
   ]
  },
  {
   "cell_type": "markdown",
   "id": "1293d6d3",
   "metadata": {},
   "source": [
    "### Linear Regression Model\n",
    "- It is the most simple model.\n",
    "- It determines the value of independent variable(Price) w.r.t a linear combination of dependent variables.\n",
    "- Variables are linearly combined by a weight attached to each variable which is called paramenter.\n",
    "- Each parameter measures the impact of one independent variable on dpendent variable. "
   ]
  },
  {
   "cell_type": "code",
   "execution_count": 68,
   "id": "0d49614d",
   "metadata": {},
   "outputs": [],
   "source": [
    "linear_model=LinearRegression()"
   ]
  },
  {
   "cell_type": "code",
   "execution_count": 69,
   "id": "0aadf097",
   "metadata": {
    "scrolled": false
   },
   "outputs": [
    {
     "name": "stdout",
     "output_type": "stream",
     "text": [
      "Mean Price : 180826.0762653899\n",
      "MAE : 15730.827304033231\n",
      "RMSE : 22668.09390664254\n",
      "Percentage deviation from mean value : 8.7\n"
     ]
    }
   ],
   "source": [
    "run_model(linear_model, scaled_X_train, y_train, scaled_X_test, y_test)"
   ]
  },
  {
   "cell_type": "markdown",
   "id": "9b4d75f7",
   "metadata": {},
   "source": [
    "- Mean absolute error is about 8.7% of average price of houses. \n",
    "- If a realtor was to predict the price of a house the model in its current state would predict price which can be undervalued or overvalued by 15700 dollars.\n",
    "- We try to improve the linear regression model by using `Regularization`."
   ]
  },
  {
   "cell_type": "code",
   "execution_count": 70,
   "id": "f37dda70",
   "metadata": {
    "scrolled": true
   },
   "outputs": [
    {
     "data": {
      "text/plain": [
       "273"
      ]
     },
     "execution_count": 70,
     "metadata": {},
     "output_type": "execute_result"
    }
   ],
   "source": [
    "len(linear_model.coef_)"
   ]
  },
  {
   "cell_type": "markdown",
   "id": "2d9d32a7",
   "metadata": {},
   "source": [
    "####  Regularization in Linear Model\n",
    "- It is an inbuit function to apply `Regularization` on a regression model.\n",
    "- Regularization method adds an extra term to the error term which is minimized while performing a regression. \n",
    "- In ElasticNet the extra term added is combination of `Lasso` and `Ridge` regularization.\n",
    "- The effect of regularization is that it ignores unnecessary indpendent variables to as to avoid overfitting the model. It also helps in model interpretability."
   ]
  },
  {
   "cell_type": "code",
   "execution_count": 71,
   "id": "8945e639",
   "metadata": {},
   "outputs": [],
   "source": [
    "base_elastic_model = ElasticNet()"
   ]
  },
  {
   "cell_type": "code",
   "execution_count": 72,
   "id": "5116d714",
   "metadata": {},
   "outputs": [],
   "source": [
    "param_grid={\n",
    "    'alpha':[0.1,1,5,10],\n",
    "    'l1_ratio':[.1, .5, .7, .9, .95, .99, 1]\n",
    "}"
   ]
  },
  {
   "cell_type": "code",
   "execution_count": 73,
   "id": "c6fb8142",
   "metadata": {},
   "outputs": [],
   "source": [
    "grid_model=GridSearchCV(base_elastic_model, param_grid)"
   ]
  },
  {
   "cell_type": "code",
   "execution_count": 74,
   "id": "1016dcae",
   "metadata": {},
   "outputs": [
    {
     "name": "stderr",
     "output_type": "stream",
     "text": [
      "C:\\Users\\Ashish Gupta\\anaconda3\\envs\\udemy\\lib\\site-packages\\sklearn\\linear_model\\_coordinate_descent.py:531: ConvergenceWarning: Objective did not converge. You might want to increase the number of iterations. Duality gap: 175405151828.0029, tolerance: 1300416469.8434181\n",
      "  positive)\n",
      "C:\\Users\\Ashish Gupta\\anaconda3\\envs\\udemy\\lib\\site-packages\\sklearn\\linear_model\\_coordinate_descent.py:531: ConvergenceWarning: Objective did not converge. You might want to increase the number of iterations. Duality gap: 162546591977.05658, tolerance: 1285358363.896675\n",
      "  positive)\n",
      "C:\\Users\\Ashish Gupta\\anaconda3\\envs\\udemy\\lib\\site-packages\\sklearn\\linear_model\\_coordinate_descent.py:531: ConvergenceWarning: Objective did not converge. You might want to increase the number of iterations. Duality gap: 132383919993.33728, tolerance: 1360119039.2048001\n",
      "  positive)\n",
      "C:\\Users\\Ashish Gupta\\anaconda3\\envs\\udemy\\lib\\site-packages\\sklearn\\linear_model\\_coordinate_descent.py:531: ConvergenceWarning: Objective did not converge. You might want to increase the number of iterations. Duality gap: 210132298758.74765, tolerance: 1339636749.8316252\n",
      "  positive)\n",
      "C:\\Users\\Ashish Gupta\\anaconda3\\envs\\udemy\\lib\\site-packages\\sklearn\\linear_model\\_coordinate_descent.py:531: ConvergenceWarning: Objective did not converge. You might want to increase the number of iterations. Duality gap: 127712764588.94843, tolerance: 1264294969.4387355\n",
      "  positive)\n",
      "C:\\Users\\Ashish Gupta\\anaconda3\\envs\\udemy\\lib\\site-packages\\sklearn\\linear_model\\_coordinate_descent.py:531: ConvergenceWarning: Objective did not converge. You might want to increase the number of iterations. Duality gap: 341906761557.61255, tolerance: 1300416469.8434181\n",
      "  positive)\n",
      "C:\\Users\\Ashish Gupta\\anaconda3\\envs\\udemy\\lib\\site-packages\\sklearn\\linear_model\\_coordinate_descent.py:531: ConvergenceWarning: Objective did not converge. You might want to increase the number of iterations. Duality gap: 319191428110.10205, tolerance: 1285358363.896675\n",
      "  positive)\n",
      "C:\\Users\\Ashish Gupta\\anaconda3\\envs\\udemy\\lib\\site-packages\\sklearn\\linear_model\\_coordinate_descent.py:531: ConvergenceWarning: Objective did not converge. You might want to increase the number of iterations. Duality gap: 332312066976.78534, tolerance: 1360119039.2048001\n",
      "  positive)\n",
      "C:\\Users\\Ashish Gupta\\anaconda3\\envs\\udemy\\lib\\site-packages\\sklearn\\linear_model\\_coordinate_descent.py:531: ConvergenceWarning: Objective did not converge. You might want to increase the number of iterations. Duality gap: 367472690830.4985, tolerance: 1339636749.8316252\n",
      "  positive)\n",
      "C:\\Users\\Ashish Gupta\\anaconda3\\envs\\udemy\\lib\\site-packages\\sklearn\\linear_model\\_coordinate_descent.py:531: ConvergenceWarning: Objective did not converge. You might want to increase the number of iterations. Duality gap: 226921997771.41776, tolerance: 1264294969.4387355\n",
      "  positive)\n",
      "C:\\Users\\Ashish Gupta\\anaconda3\\envs\\udemy\\lib\\site-packages\\sklearn\\linear_model\\_coordinate_descent.py:531: ConvergenceWarning: Objective did not converge. You might want to increase the number of iterations. Duality gap: 362883040719.32166, tolerance: 1300416469.8434181\n",
      "  positive)\n",
      "C:\\Users\\Ashish Gupta\\anaconda3\\envs\\udemy\\lib\\site-packages\\sklearn\\linear_model\\_coordinate_descent.py:531: ConvergenceWarning: Objective did not converge. You might want to increase the number of iterations. Duality gap: 335209860297.3603, tolerance: 1285358363.896675\n",
      "  positive)\n",
      "C:\\Users\\Ashish Gupta\\anaconda3\\envs\\udemy\\lib\\site-packages\\sklearn\\linear_model\\_coordinate_descent.py:531: ConvergenceWarning: Objective did not converge. You might want to increase the number of iterations. Duality gap: 376456301915.2388, tolerance: 1360119039.2048001\n",
      "  positive)\n",
      "C:\\Users\\Ashish Gupta\\anaconda3\\envs\\udemy\\lib\\site-packages\\sklearn\\linear_model\\_coordinate_descent.py:531: ConvergenceWarning: Objective did not converge. You might want to increase the number of iterations. Duality gap: 377629420116.00226, tolerance: 1339636749.8316252\n",
      "  positive)\n",
      "C:\\Users\\Ashish Gupta\\anaconda3\\envs\\udemy\\lib\\site-packages\\sklearn\\linear_model\\_coordinate_descent.py:531: ConvergenceWarning: Objective did not converge. You might want to increase the number of iterations. Duality gap: 348955031220.44714, tolerance: 1264294969.4387355\n",
      "  positive)\n",
      "C:\\Users\\Ashish Gupta\\anaconda3\\envs\\udemy\\lib\\site-packages\\sklearn\\linear_model\\_coordinate_descent.py:531: ConvergenceWarning: Objective did not converge. You might want to increase the number of iterations. Duality gap: 357875412384.2644, tolerance: 1300416469.8434181\n",
      "  positive)\n",
      "C:\\Users\\Ashish Gupta\\anaconda3\\envs\\udemy\\lib\\site-packages\\sklearn\\linear_model\\_coordinate_descent.py:531: ConvergenceWarning: Objective did not converge. You might want to increase the number of iterations. Duality gap: 329231810213.7108, tolerance: 1285358363.896675\n",
      "  positive)\n",
      "C:\\Users\\Ashish Gupta\\anaconda3\\envs\\udemy\\lib\\site-packages\\sklearn\\linear_model\\_coordinate_descent.py:531: ConvergenceWarning: Objective did not converge. You might want to increase the number of iterations. Duality gap: 370862301587.3324, tolerance: 1360119039.2048001\n",
      "  positive)\n",
      "C:\\Users\\Ashish Gupta\\anaconda3\\envs\\udemy\\lib\\site-packages\\sklearn\\linear_model\\_coordinate_descent.py:531: ConvergenceWarning: Objective did not converge. You might want to increase the number of iterations. Duality gap: 368800239535.6802, tolerance: 1339636749.8316252\n",
      "  positive)\n",
      "C:\\Users\\Ashish Gupta\\anaconda3\\envs\\udemy\\lib\\site-packages\\sklearn\\linear_model\\_coordinate_descent.py:531: ConvergenceWarning: Objective did not converge. You might want to increase the number of iterations. Duality gap: 351024523224.02014, tolerance: 1264294969.4387355\n",
      "  positive)\n",
      "C:\\Users\\Ashish Gupta\\anaconda3\\envs\\udemy\\lib\\site-packages\\sklearn\\linear_model\\_coordinate_descent.py:531: ConvergenceWarning: Objective did not converge. You might want to increase the number of iterations. Duality gap: 3843077848.8654785, tolerance: 1264294969.4387355\n",
      "  positive)\n",
      "C:\\Users\\Ashish Gupta\\anaconda3\\envs\\udemy\\lib\\site-packages\\sklearn\\linear_model\\_coordinate_descent.py:531: ConvergenceWarning: Objective did not converge. You might want to increase the number of iterations. Duality gap: 296214925318.0142, tolerance: 1300416469.8434181\n",
      "  positive)\n",
      "C:\\Users\\Ashish Gupta\\anaconda3\\envs\\udemy\\lib\\site-packages\\sklearn\\linear_model\\_coordinate_descent.py:531: ConvergenceWarning: Objective did not converge. You might want to increase the number of iterations. Duality gap: 289557726097.7087, tolerance: 1285358363.896675\n",
      "  positive)\n",
      "C:\\Users\\Ashish Gupta\\anaconda3\\envs\\udemy\\lib\\site-packages\\sklearn\\linear_model\\_coordinate_descent.py:531: ConvergenceWarning: Objective did not converge. You might want to increase the number of iterations. Duality gap: 291555670182.5547, tolerance: 1360119039.2048001\n",
      "  positive)\n",
      "C:\\Users\\Ashish Gupta\\anaconda3\\envs\\udemy\\lib\\site-packages\\sklearn\\linear_model\\_coordinate_descent.py:531: ConvergenceWarning: Objective did not converge. You might want to increase the number of iterations. Duality gap: 283911562173.6057, tolerance: 1339636749.8316252\n",
      "  positive)\n",
      "C:\\Users\\Ashish Gupta\\anaconda3\\envs\\udemy\\lib\\site-packages\\sklearn\\linear_model\\_coordinate_descent.py:531: ConvergenceWarning: Objective did not converge. You might want to increase the number of iterations. Duality gap: 161172957025.227, tolerance: 1264294969.4387355\n",
      "  positive)\n",
      "C:\\Users\\Ashish Gupta\\anaconda3\\envs\\udemy\\lib\\site-packages\\sklearn\\linear_model\\_coordinate_descent.py:531: ConvergenceWarning: Objective did not converge. You might want to increase the number of iterations. Duality gap: 144939174527.68353, tolerance: 1300416469.8434181\n",
      "  positive)\n",
      "C:\\Users\\Ashish Gupta\\anaconda3\\envs\\udemy\\lib\\site-packages\\sklearn\\linear_model\\_coordinate_descent.py:531: ConvergenceWarning: Objective did not converge. You might want to increase the number of iterations. Duality gap: 174937550774.60397, tolerance: 1285358363.896675\n",
      "  positive)\n",
      "C:\\Users\\Ashish Gupta\\anaconda3\\envs\\udemy\\lib\\site-packages\\sklearn\\linear_model\\_coordinate_descent.py:531: ConvergenceWarning: Objective did not converge. You might want to increase the number of iterations. Duality gap: 124401968320.74017, tolerance: 1360119039.2048001\n",
      "  positive)\n"
     ]
    },
    {
     "name": "stderr",
     "output_type": "stream",
     "text": [
      "C:\\Users\\Ashish Gupta\\anaconda3\\envs\\udemy\\lib\\site-packages\\sklearn\\linear_model\\_coordinate_descent.py:531: ConvergenceWarning: Objective did not converge. You might want to increase the number of iterations. Duality gap: 118075072156.42786, tolerance: 1339636749.8316252\n",
      "  positive)\n",
      "C:\\Users\\Ashish Gupta\\anaconda3\\envs\\udemy\\lib\\site-packages\\sklearn\\linear_model\\_coordinate_descent.py:531: ConvergenceWarning: Objective did not converge. You might want to increase the number of iterations. Duality gap: 47277639502.47656, tolerance: 1300416469.8434181\n",
      "  positive)\n",
      "C:\\Users\\Ashish Gupta\\anaconda3\\envs\\udemy\\lib\\site-packages\\sklearn\\linear_model\\_coordinate_descent.py:531: ConvergenceWarning: Objective did not converge. You might want to increase the number of iterations. Duality gap: 106067916738.5943, tolerance: 1285358363.896675\n",
      "  positive)\n",
      "C:\\Users\\Ashish Gupta\\anaconda3\\envs\\udemy\\lib\\site-packages\\sklearn\\linear_model\\_coordinate_descent.py:531: ConvergenceWarning: Objective did not converge. You might want to increase the number of iterations. Duality gap: 4607730068.08313, tolerance: 1339636749.8316252\n",
      "  positive)\n"
     ]
    },
    {
     "name": "stdout",
     "output_type": "stream",
     "text": [
      "Mean Price : 180826.0762653899\n",
      "MAE : 15586.265222969483\n",
      "RMSE : 22766.661355822547\n",
      "Percentage deviation from mean value : 8.62\n"
     ]
    }
   ],
   "source": [
    "run_model(grid_model, scaled_X_train,y_train, scaled_X_test, y_test)"
   ]
  },
  {
   "cell_type": "code",
   "execution_count": 75,
   "id": "a6ab42a9",
   "metadata": {
    "scrolled": true
   },
   "outputs": [
    {
     "data": {
      "text/plain": [
       "{'alpha': 1, 'l1_ratio': 0.99}"
      ]
     },
     "execution_count": 75,
     "metadata": {},
     "output_type": "execute_result"
    }
   ],
   "source": [
    "grid_model.best_params_"
   ]
  },
  {
   "cell_type": "code",
   "execution_count": 76,
   "id": "0894c976",
   "metadata": {},
   "outputs": [
    {
     "data": {
      "text/plain": [
       "0.9178491023772757"
      ]
     },
     "execution_count": 76,
     "metadata": {},
     "output_type": "execute_result"
    }
   ],
   "source": [
    "grid_model.best_score_"
   ]
  },
  {
   "cell_type": "code",
   "execution_count": null,
   "id": "4ba1d775",
   "metadata": {},
   "outputs": [],
   "source": []
  },
  {
   "cell_type": "markdown",
   "id": "f9330b60",
   "metadata": {},
   "source": [
    "- Although the model explains the variation of sales prices by 91%, we do not see any significant difference in MAE as compared to simple linear regression model.\n",
    "- Infact, we see an increase of root mean absolute error.\n",
    "- The model shows prediction based on Lasso regulatization with 1 as coefficent.\n",
    "- Therefore, it can be concluded that regularization has no effect on model results for our dataset. "
   ]
  },
  {
   "cell_type": "markdown",
   "id": "14c69b7c",
   "metadata": {},
   "source": [
    "### Polynomial Model\n",
    "- It tries to improve a model by adding polynomial combination of varius independent variable to independent variable.\n",
    "- It increases model complexity."
   ]
  },
  {
   "cell_type": "code",
   "execution_count": 77,
   "id": "d35df44f",
   "metadata": {},
   "outputs": [],
   "source": [
    "polynomial_converter = PolynomialFeatures(degree=2,include_bias=False)\n",
    "poly_X = polynomial_converter.fit_transform(X)\n",
    "poly_X_train, poly_X_test, poly_y_train, poly_y_test = train_test_split(poly_X,\n",
    "                                                    y, test_size=0.10, random_state=101)"
   ]
  },
  {
   "cell_type": "code",
   "execution_count": 78,
   "id": "a25a7d0f",
   "metadata": {},
   "outputs": [],
   "source": [
    "poly_model=LinearRegression()"
   ]
  },
  {
   "cell_type": "code",
   "execution_count": 79,
   "id": "d966429c",
   "metadata": {},
   "outputs": [
    {
     "name": "stdout",
     "output_type": "stream",
     "text": [
      "Mean Price : 180826.0762653899\n",
      "MAE : 204409.32502129424\n",
      "RMSE : 391332.5477370116\n",
      "Percentage deviation from mean value : 113.04\n"
     ]
    }
   ],
   "source": [
    "run_model(poly_model, poly_X_train, poly_y_train, poly_X_test, poly_y_test)"
   ]
  },
  {
   "cell_type": "markdown",
   "id": "c30a30db",
   "metadata": {},
   "source": [
    "- The polynomial model does a very poor job for out dataset.\n",
    "- It can be expected as the dataset contains huge number of independent variables, which naturally makes the model complex.\n",
    "- By applying polynomial method we only increase model complexity which results excessively overfitting and therefore large errors. "
   ]
  },
  {
   "cell_type": "markdown",
   "id": "41d1d365",
   "metadata": {},
   "source": [
    "### Random Forest Regression\n",
    "- It is a tree based model.\n",
    "- It predicts the outcome by forming a number of trees which are split into branches.\n",
    "- The node represents a particular feature selected at random from the dataset. We can specify the maximum number of rows to be used to form a particular tree by `max_feature` parameter.\n",
    "- The number of branches can be changed by using `max_dept` argument. \n",
    "- Increasing  number of branches increases risk for overfiting the model.\n",
    "- The outcome is the average of outcomes from number of trees. To determine number of trees to be formed we can change `n_estimators` parameter."
   ]
  },
  {
   "cell_type": "code",
   "execution_count": 80,
   "id": "f1316fd5",
   "metadata": {},
   "outputs": [],
   "source": [
    "model=RandomForestRegressor()"
   ]
  },
  {
   "cell_type": "code",
   "execution_count": 81,
   "id": "55728672",
   "metadata": {},
   "outputs": [],
   "source": [
    "param_grid = {'n_estimators':[100,125,150,200],\n",
    "             'max_depth': [10,20,25],\n",
    "              'max_features': [25,30,35,40,45]\n",
    "             }"
   ]
  },
  {
   "cell_type": "code",
   "execution_count": 82,
   "id": "56869f22",
   "metadata": {},
   "outputs": [],
   "source": [
    "grid_model=GridSearchCV(model, param_grid)"
   ]
  },
  {
   "cell_type": "code",
   "execution_count": 83,
   "id": "10d489dc",
   "metadata": {},
   "outputs": [
    {
     "name": "stdout",
     "output_type": "stream",
     "text": [
      "Mean Price : 180826.0762653899\n",
      "MAE : 16540.928335386543\n",
      "RMSE : 28020.08792400529\n",
      "Percentage deviation from mean value : 9.15\n"
     ]
    }
   ],
   "source": [
    "run_model(grid_model, scaled_X_train, y_train, scaled_X_test, y_test)"
   ]
  },
  {
   "cell_type": "code",
   "execution_count": 84,
   "id": "f9627439",
   "metadata": {},
   "outputs": [
    {
     "data": {
      "text/plain": [
       "{'max_depth': 20, 'max_features': 45, 'n_estimators': 150}"
      ]
     },
     "execution_count": 84,
     "metadata": {},
     "output_type": "execute_result"
    }
   ],
   "source": [
    "grid_model.best_params_"
   ]
  },
  {
   "cell_type": "markdown",
   "id": "071eecd9",
   "metadata": {},
   "source": [
    "- Optimal parameters selected by GridSearhCV."
   ]
  },
  {
   "cell_type": "code",
   "execution_count": 85,
   "id": "4737128b",
   "metadata": {},
   "outputs": [
    {
     "data": {
      "text/plain": [
       "0.911755201768657"
      ]
     },
     "execution_count": 85,
     "metadata": {},
     "output_type": "execute_result"
    }
   ],
   "source": [
    "grid_model.best_score_"
   ]
  },
  {
   "cell_type": "markdown",
   "id": "1d6deb24",
   "metadata": {},
   "source": [
    "- Random Forest method doesnot perform better than Linear Regression model. \n",
    "- The errors are slightly more than errors from linear regression model.\n",
    "- Although random forest model explains about 91% variation in prices."
   ]
  },
  {
   "cell_type": "markdown",
   "id": "9773cef3",
   "metadata": {},
   "source": [
    "### Support Vector Regression\n",
    "- A Support Vector Machine is an algorith based model which tries to classify data by forming hyperplane in (n-1) dimensions.\n",
    "- A Support Vector Regression is a SVM model used for continous variable prediction by predicting a point on a hyperplane."
   ]
  },
  {
   "cell_type": "code",
   "execution_count": 86,
   "id": "4ab81089",
   "metadata": {},
   "outputs": [],
   "source": [
    "svr_model=LinearSVR()"
   ]
  },
  {
   "cell_type": "code",
   "execution_count": 87,
   "id": "4bc1cfcf",
   "metadata": {},
   "outputs": [],
   "source": [
    "param_grid={'C':[0,0.001,0.01,0.1,0.5,1],\n",
    "           'epsilon':[0,0.01,0.2,0.5,1,2]}"
   ]
  },
  {
   "cell_type": "code",
   "execution_count": 88,
   "id": "6c6de5dd",
   "metadata": {},
   "outputs": [],
   "source": [
    "grid_model=GridSearchCV(svr_model, param_grid)"
   ]
  },
  {
   "cell_type": "code",
   "execution_count": 89,
   "id": "b2c68b62",
   "metadata": {},
   "outputs": [
    {
     "name": "stderr",
     "output_type": "stream",
     "text": [
      "C:\\Users\\Ashish Gupta\\anaconda3\\envs\\udemy\\lib\\site-packages\\sklearn\\model_selection\\_validation.py:552: FitFailedWarning: Estimator fit failed. The score on this train-test partition for these parameters will be set to nan. Details: \n",
      "Traceback (most recent call last):\n",
      "  File \"C:\\Users\\Ashish Gupta\\anaconda3\\envs\\udemy\\lib\\site-packages\\sklearn\\model_selection\\_validation.py\", line 531, in _fit_and_score\n",
      "    estimator.fit(X_train, y_train, **fit_params)\n",
      "  File \"C:\\Users\\Ashish Gupta\\anaconda3\\envs\\udemy\\lib\\site-packages\\sklearn\\svm\\_classes.py\", line 422, in fit\n",
      "    epsilon=self.epsilon, sample_weight=sample_weight)\n",
      "  File \"C:\\Users\\Ashish Gupta\\anaconda3\\envs\\udemy\\lib\\site-packages\\sklearn\\svm\\_base.py\", line 969, in _fit_liblinear\n",
      "    epsilon, sample_weight)\n",
      "  File \"sklearn\\svm\\_liblinear.pyx\", line 52, in sklearn.svm._liblinear.train_wrap\n",
      "ValueError: b'C <= 0'\n",
      "\n",
      "  FitFailedWarning)\n",
      "C:\\Users\\Ashish Gupta\\anaconda3\\envs\\udemy\\lib\\site-packages\\sklearn\\model_selection\\_validation.py:552: FitFailedWarning: Estimator fit failed. The score on this train-test partition for these parameters will be set to nan. Details: \n",
      "Traceback (most recent call last):\n",
      "  File \"C:\\Users\\Ashish Gupta\\anaconda3\\envs\\udemy\\lib\\site-packages\\sklearn\\model_selection\\_validation.py\", line 531, in _fit_and_score\n",
      "    estimator.fit(X_train, y_train, **fit_params)\n",
      "  File \"C:\\Users\\Ashish Gupta\\anaconda3\\envs\\udemy\\lib\\site-packages\\sklearn\\svm\\_classes.py\", line 422, in fit\n",
      "    epsilon=self.epsilon, sample_weight=sample_weight)\n",
      "  File \"C:\\Users\\Ashish Gupta\\anaconda3\\envs\\udemy\\lib\\site-packages\\sklearn\\svm\\_base.py\", line 969, in _fit_liblinear\n",
      "    epsilon, sample_weight)\n",
      "  File \"sklearn\\svm\\_liblinear.pyx\", line 52, in sklearn.svm._liblinear.train_wrap\n",
      "ValueError: b'C <= 0'\n",
      "\n",
      "  FitFailedWarning)\n",
      "C:\\Users\\Ashish Gupta\\anaconda3\\envs\\udemy\\lib\\site-packages\\sklearn\\model_selection\\_validation.py:552: FitFailedWarning: Estimator fit failed. The score on this train-test partition for these parameters will be set to nan. Details: \n",
      "Traceback (most recent call last):\n",
      "  File \"C:\\Users\\Ashish Gupta\\anaconda3\\envs\\udemy\\lib\\site-packages\\sklearn\\model_selection\\_validation.py\", line 531, in _fit_and_score\n",
      "    estimator.fit(X_train, y_train, **fit_params)\n",
      "  File \"C:\\Users\\Ashish Gupta\\anaconda3\\envs\\udemy\\lib\\site-packages\\sklearn\\svm\\_classes.py\", line 422, in fit\n",
      "    epsilon=self.epsilon, sample_weight=sample_weight)\n",
      "  File \"C:\\Users\\Ashish Gupta\\anaconda3\\envs\\udemy\\lib\\site-packages\\sklearn\\svm\\_base.py\", line 969, in _fit_liblinear\n",
      "    epsilon, sample_weight)\n",
      "  File \"sklearn\\svm\\_liblinear.pyx\", line 52, in sklearn.svm._liblinear.train_wrap\n",
      "ValueError: b'C <= 0'\n",
      "\n",
      "  FitFailedWarning)\n",
      "C:\\Users\\Ashish Gupta\\anaconda3\\envs\\udemy\\lib\\site-packages\\sklearn\\model_selection\\_validation.py:552: FitFailedWarning: Estimator fit failed. The score on this train-test partition for these parameters will be set to nan. Details: \n",
      "Traceback (most recent call last):\n",
      "  File \"C:\\Users\\Ashish Gupta\\anaconda3\\envs\\udemy\\lib\\site-packages\\sklearn\\model_selection\\_validation.py\", line 531, in _fit_and_score\n",
      "    estimator.fit(X_train, y_train, **fit_params)\n",
      "  File \"C:\\Users\\Ashish Gupta\\anaconda3\\envs\\udemy\\lib\\site-packages\\sklearn\\svm\\_classes.py\", line 422, in fit\n",
      "    epsilon=self.epsilon, sample_weight=sample_weight)\n",
      "  File \"C:\\Users\\Ashish Gupta\\anaconda3\\envs\\udemy\\lib\\site-packages\\sklearn\\svm\\_base.py\", line 969, in _fit_liblinear\n",
      "    epsilon, sample_weight)\n",
      "  File \"sklearn\\svm\\_liblinear.pyx\", line 52, in sklearn.svm._liblinear.train_wrap\n",
      "ValueError: b'C <= 0'\n",
      "\n",
      "  FitFailedWarning)\n",
      "C:\\Users\\Ashish Gupta\\anaconda3\\envs\\udemy\\lib\\site-packages\\sklearn\\model_selection\\_validation.py:552: FitFailedWarning: Estimator fit failed. The score on this train-test partition for these parameters will be set to nan. Details: \n",
      "Traceback (most recent call last):\n",
      "  File \"C:\\Users\\Ashish Gupta\\anaconda3\\envs\\udemy\\lib\\site-packages\\sklearn\\model_selection\\_validation.py\", line 531, in _fit_and_score\n",
      "    estimator.fit(X_train, y_train, **fit_params)\n",
      "  File \"C:\\Users\\Ashish Gupta\\anaconda3\\envs\\udemy\\lib\\site-packages\\sklearn\\svm\\_classes.py\", line 422, in fit\n",
      "    epsilon=self.epsilon, sample_weight=sample_weight)\n",
      "  File \"C:\\Users\\Ashish Gupta\\anaconda3\\envs\\udemy\\lib\\site-packages\\sklearn\\svm\\_base.py\", line 969, in _fit_liblinear\n",
      "    epsilon, sample_weight)\n",
      "  File \"sklearn\\svm\\_liblinear.pyx\", line 52, in sklearn.svm._liblinear.train_wrap\n",
      "ValueError: b'C <= 0'\n",
      "\n",
      "  FitFailedWarning)\n",
      "C:\\Users\\Ashish Gupta\\anaconda3\\envs\\udemy\\lib\\site-packages\\sklearn\\model_selection\\_validation.py:552: FitFailedWarning: Estimator fit failed. The score on this train-test partition for these parameters will be set to nan. Details: \n",
      "Traceback (most recent call last):\n",
      "  File \"C:\\Users\\Ashish Gupta\\anaconda3\\envs\\udemy\\lib\\site-packages\\sklearn\\model_selection\\_validation.py\", line 531, in _fit_and_score\n",
      "    estimator.fit(X_train, y_train, **fit_params)\n",
      "  File \"C:\\Users\\Ashish Gupta\\anaconda3\\envs\\udemy\\lib\\site-packages\\sklearn\\svm\\_classes.py\", line 422, in fit\n",
      "    epsilon=self.epsilon, sample_weight=sample_weight)\n",
      "  File \"C:\\Users\\Ashish Gupta\\anaconda3\\envs\\udemy\\lib\\site-packages\\sklearn\\svm\\_base.py\", line 969, in _fit_liblinear\n",
      "    epsilon, sample_weight)\n",
      "  File \"sklearn\\svm\\_liblinear.pyx\", line 52, in sklearn.svm._liblinear.train_wrap\n",
      "ValueError: b'C <= 0'\n",
      "\n",
      "  FitFailedWarning)\n",
      "C:\\Users\\Ashish Gupta\\anaconda3\\envs\\udemy\\lib\\site-packages\\sklearn\\model_selection\\_validation.py:552: FitFailedWarning: Estimator fit failed. The score on this train-test partition for these parameters will be set to nan. Details: \n",
      "Traceback (most recent call last):\n",
      "  File \"C:\\Users\\Ashish Gupta\\anaconda3\\envs\\udemy\\lib\\site-packages\\sklearn\\model_selection\\_validation.py\", line 531, in _fit_and_score\n",
      "    estimator.fit(X_train, y_train, **fit_params)\n",
      "  File \"C:\\Users\\Ashish Gupta\\anaconda3\\envs\\udemy\\lib\\site-packages\\sklearn\\svm\\_classes.py\", line 422, in fit\n",
      "    epsilon=self.epsilon, sample_weight=sample_weight)\n",
      "  File \"C:\\Users\\Ashish Gupta\\anaconda3\\envs\\udemy\\lib\\site-packages\\sklearn\\svm\\_base.py\", line 969, in _fit_liblinear\n",
      "    epsilon, sample_weight)\n",
      "  File \"sklearn\\svm\\_liblinear.pyx\", line 52, in sklearn.svm._liblinear.train_wrap\n",
      "ValueError: b'C <= 0'\n",
      "\n",
      "  FitFailedWarning)\n",
      "C:\\Users\\Ashish Gupta\\anaconda3\\envs\\udemy\\lib\\site-packages\\sklearn\\model_selection\\_validation.py:552: FitFailedWarning: Estimator fit failed. The score on this train-test partition for these parameters will be set to nan. Details: \n",
      "Traceback (most recent call last):\n",
      "  File \"C:\\Users\\Ashish Gupta\\anaconda3\\envs\\udemy\\lib\\site-packages\\sklearn\\model_selection\\_validation.py\", line 531, in _fit_and_score\n",
      "    estimator.fit(X_train, y_train, **fit_params)\n",
      "  File \"C:\\Users\\Ashish Gupta\\anaconda3\\envs\\udemy\\lib\\site-packages\\sklearn\\svm\\_classes.py\", line 422, in fit\n",
      "    epsilon=self.epsilon, sample_weight=sample_weight)\n",
      "  File \"C:\\Users\\Ashish Gupta\\anaconda3\\envs\\udemy\\lib\\site-packages\\sklearn\\svm\\_base.py\", line 969, in _fit_liblinear\n",
      "    epsilon, sample_weight)\n",
      "  File \"sklearn\\svm\\_liblinear.pyx\", line 52, in sklearn.svm._liblinear.train_wrap\n",
      "ValueError: b'C <= 0'\n",
      "\n",
      "  FitFailedWarning)\n",
      "C:\\Users\\Ashish Gupta\\anaconda3\\envs\\udemy\\lib\\site-packages\\sklearn\\model_selection\\_validation.py:552: FitFailedWarning: Estimator fit failed. The score on this train-test partition for these parameters will be set to nan. Details: \n",
      "Traceback (most recent call last):\n",
      "  File \"C:\\Users\\Ashish Gupta\\anaconda3\\envs\\udemy\\lib\\site-packages\\sklearn\\model_selection\\_validation.py\", line 531, in _fit_and_score\n",
      "    estimator.fit(X_train, y_train, **fit_params)\n",
      "  File \"C:\\Users\\Ashish Gupta\\anaconda3\\envs\\udemy\\lib\\site-packages\\sklearn\\svm\\_classes.py\", line 422, in fit\n",
      "    epsilon=self.epsilon, sample_weight=sample_weight)\n",
      "  File \"C:\\Users\\Ashish Gupta\\anaconda3\\envs\\udemy\\lib\\site-packages\\sklearn\\svm\\_base.py\", line 969, in _fit_liblinear\n",
      "    epsilon, sample_weight)\n",
      "  File \"sklearn\\svm\\_liblinear.pyx\", line 52, in sklearn.svm._liblinear.train_wrap\n",
      "ValueError: b'C <= 0'\n",
      "\n",
      "  FitFailedWarning)\n",
      "C:\\Users\\Ashish Gupta\\anaconda3\\envs\\udemy\\lib\\site-packages\\sklearn\\model_selection\\_validation.py:552: FitFailedWarning: Estimator fit failed. The score on this train-test partition for these parameters will be set to nan. Details: \n",
      "Traceback (most recent call last):\n",
      "  File \"C:\\Users\\Ashish Gupta\\anaconda3\\envs\\udemy\\lib\\site-packages\\sklearn\\model_selection\\_validation.py\", line 531, in _fit_and_score\n",
      "    estimator.fit(X_train, y_train, **fit_params)\n",
      "  File \"C:\\Users\\Ashish Gupta\\anaconda3\\envs\\udemy\\lib\\site-packages\\sklearn\\svm\\_classes.py\", line 422, in fit\n",
      "    epsilon=self.epsilon, sample_weight=sample_weight)\n",
      "  File \"C:\\Users\\Ashish Gupta\\anaconda3\\envs\\udemy\\lib\\site-packages\\sklearn\\svm\\_base.py\", line 969, in _fit_liblinear\n",
      "    epsilon, sample_weight)\n",
      "  File \"sklearn\\svm\\_liblinear.pyx\", line 52, in sklearn.svm._liblinear.train_wrap\n",
      "ValueError: b'C <= 0'\n",
      "\n",
      "  FitFailedWarning)\n",
      "C:\\Users\\Ashish Gupta\\anaconda3\\envs\\udemy\\lib\\site-packages\\sklearn\\model_selection\\_validation.py:552: FitFailedWarning: Estimator fit failed. The score on this train-test partition for these parameters will be set to nan. Details: \n",
      "Traceback (most recent call last):\n",
      "  File \"C:\\Users\\Ashish Gupta\\anaconda3\\envs\\udemy\\lib\\site-packages\\sklearn\\model_selection\\_validation.py\", line 531, in _fit_and_score\n",
      "    estimator.fit(X_train, y_train, **fit_params)\n",
      "  File \"C:\\Users\\Ashish Gupta\\anaconda3\\envs\\udemy\\lib\\site-packages\\sklearn\\svm\\_classes.py\", line 422, in fit\n",
      "    epsilon=self.epsilon, sample_weight=sample_weight)\n",
      "  File \"C:\\Users\\Ashish Gupta\\anaconda3\\envs\\udemy\\lib\\site-packages\\sklearn\\svm\\_base.py\", line 969, in _fit_liblinear\n",
      "    epsilon, sample_weight)\n",
      "  File \"sklearn\\svm\\_liblinear.pyx\", line 52, in sklearn.svm._liblinear.train_wrap\n",
      "ValueError: b'C <= 0'\n",
      "\n",
      "  FitFailedWarning)\n",
      "C:\\Users\\Ashish Gupta\\anaconda3\\envs\\udemy\\lib\\site-packages\\sklearn\\model_selection\\_validation.py:552: FitFailedWarning: Estimator fit failed. The score on this train-test partition for these parameters will be set to nan. Details: \n",
      "Traceback (most recent call last):\n",
      "  File \"C:\\Users\\Ashish Gupta\\anaconda3\\envs\\udemy\\lib\\site-packages\\sklearn\\model_selection\\_validation.py\", line 531, in _fit_and_score\n",
      "    estimator.fit(X_train, y_train, **fit_params)\n",
      "  File \"C:\\Users\\Ashish Gupta\\anaconda3\\envs\\udemy\\lib\\site-packages\\sklearn\\svm\\_classes.py\", line 422, in fit\n",
      "    epsilon=self.epsilon, sample_weight=sample_weight)\n",
      "  File \"C:\\Users\\Ashish Gupta\\anaconda3\\envs\\udemy\\lib\\site-packages\\sklearn\\svm\\_base.py\", line 969, in _fit_liblinear\n",
      "    epsilon, sample_weight)\n",
      "  File \"sklearn\\svm\\_liblinear.pyx\", line 52, in sklearn.svm._liblinear.train_wrap\n",
      "ValueError: b'C <= 0'\n",
      "\n",
      "  FitFailedWarning)\n",
      "C:\\Users\\Ashish Gupta\\anaconda3\\envs\\udemy\\lib\\site-packages\\sklearn\\model_selection\\_validation.py:552: FitFailedWarning: Estimator fit failed. The score on this train-test partition for these parameters will be set to nan. Details: \n",
      "Traceback (most recent call last):\n",
      "  File \"C:\\Users\\Ashish Gupta\\anaconda3\\envs\\udemy\\lib\\site-packages\\sklearn\\model_selection\\_validation.py\", line 531, in _fit_and_score\n",
      "    estimator.fit(X_train, y_train, **fit_params)\n",
      "  File \"C:\\Users\\Ashish Gupta\\anaconda3\\envs\\udemy\\lib\\site-packages\\sklearn\\svm\\_classes.py\", line 422, in fit\n",
      "    epsilon=self.epsilon, sample_weight=sample_weight)\n",
      "  File \"C:\\Users\\Ashish Gupta\\anaconda3\\envs\\udemy\\lib\\site-packages\\sklearn\\svm\\_base.py\", line 969, in _fit_liblinear\n",
      "    epsilon, sample_weight)\n",
      "  File \"sklearn\\svm\\_liblinear.pyx\", line 52, in sklearn.svm._liblinear.train_wrap\n",
      "ValueError: b'C <= 0'\n",
      "\n",
      "  FitFailedWarning)\n",
      "C:\\Users\\Ashish Gupta\\anaconda3\\envs\\udemy\\lib\\site-packages\\sklearn\\model_selection\\_validation.py:552: FitFailedWarning: Estimator fit failed. The score on this train-test partition for these parameters will be set to nan. Details: \n",
      "Traceback (most recent call last):\n",
      "  File \"C:\\Users\\Ashish Gupta\\anaconda3\\envs\\udemy\\lib\\site-packages\\sklearn\\model_selection\\_validation.py\", line 531, in _fit_and_score\n",
      "    estimator.fit(X_train, y_train, **fit_params)\n",
      "  File \"C:\\Users\\Ashish Gupta\\anaconda3\\envs\\udemy\\lib\\site-packages\\sklearn\\svm\\_classes.py\", line 422, in fit\n",
      "    epsilon=self.epsilon, sample_weight=sample_weight)\n",
      "  File \"C:\\Users\\Ashish Gupta\\anaconda3\\envs\\udemy\\lib\\site-packages\\sklearn\\svm\\_base.py\", line 969, in _fit_liblinear\n",
      "    epsilon, sample_weight)\n",
      "  File \"sklearn\\svm\\_liblinear.pyx\", line 52, in sklearn.svm._liblinear.train_wrap\n",
      "ValueError: b'C <= 0'\n",
      "\n",
      "  FitFailedWarning)\n"
     ]
    },
    {
     "name": "stderr",
     "output_type": "stream",
     "text": [
      "C:\\Users\\Ashish Gupta\\anaconda3\\envs\\udemy\\lib\\site-packages\\sklearn\\model_selection\\_validation.py:552: FitFailedWarning: Estimator fit failed. The score on this train-test partition for these parameters will be set to nan. Details: \n",
      "Traceback (most recent call last):\n",
      "  File \"C:\\Users\\Ashish Gupta\\anaconda3\\envs\\udemy\\lib\\site-packages\\sklearn\\model_selection\\_validation.py\", line 531, in _fit_and_score\n",
      "    estimator.fit(X_train, y_train, **fit_params)\n",
      "  File \"C:\\Users\\Ashish Gupta\\anaconda3\\envs\\udemy\\lib\\site-packages\\sklearn\\svm\\_classes.py\", line 422, in fit\n",
      "    epsilon=self.epsilon, sample_weight=sample_weight)\n",
      "  File \"C:\\Users\\Ashish Gupta\\anaconda3\\envs\\udemy\\lib\\site-packages\\sklearn\\svm\\_base.py\", line 969, in _fit_liblinear\n",
      "    epsilon, sample_weight)\n",
      "  File \"sklearn\\svm\\_liblinear.pyx\", line 52, in sklearn.svm._liblinear.train_wrap\n",
      "ValueError: b'C <= 0'\n",
      "\n",
      "  FitFailedWarning)\n",
      "C:\\Users\\Ashish Gupta\\anaconda3\\envs\\udemy\\lib\\site-packages\\sklearn\\model_selection\\_validation.py:552: FitFailedWarning: Estimator fit failed. The score on this train-test partition for these parameters will be set to nan. Details: \n",
      "Traceback (most recent call last):\n",
      "  File \"C:\\Users\\Ashish Gupta\\anaconda3\\envs\\udemy\\lib\\site-packages\\sklearn\\model_selection\\_validation.py\", line 531, in _fit_and_score\n",
      "    estimator.fit(X_train, y_train, **fit_params)\n",
      "  File \"C:\\Users\\Ashish Gupta\\anaconda3\\envs\\udemy\\lib\\site-packages\\sklearn\\svm\\_classes.py\", line 422, in fit\n",
      "    epsilon=self.epsilon, sample_weight=sample_weight)\n",
      "  File \"C:\\Users\\Ashish Gupta\\anaconda3\\envs\\udemy\\lib\\site-packages\\sklearn\\svm\\_base.py\", line 969, in _fit_liblinear\n",
      "    epsilon, sample_weight)\n",
      "  File \"sklearn\\svm\\_liblinear.pyx\", line 52, in sklearn.svm._liblinear.train_wrap\n",
      "ValueError: b'C <= 0'\n",
      "\n",
      "  FitFailedWarning)\n",
      "C:\\Users\\Ashish Gupta\\anaconda3\\envs\\udemy\\lib\\site-packages\\sklearn\\model_selection\\_validation.py:552: FitFailedWarning: Estimator fit failed. The score on this train-test partition for these parameters will be set to nan. Details: \n",
      "Traceback (most recent call last):\n",
      "  File \"C:\\Users\\Ashish Gupta\\anaconda3\\envs\\udemy\\lib\\site-packages\\sklearn\\model_selection\\_validation.py\", line 531, in _fit_and_score\n",
      "    estimator.fit(X_train, y_train, **fit_params)\n",
      "  File \"C:\\Users\\Ashish Gupta\\anaconda3\\envs\\udemy\\lib\\site-packages\\sklearn\\svm\\_classes.py\", line 422, in fit\n",
      "    epsilon=self.epsilon, sample_weight=sample_weight)\n",
      "  File \"C:\\Users\\Ashish Gupta\\anaconda3\\envs\\udemy\\lib\\site-packages\\sklearn\\svm\\_base.py\", line 969, in _fit_liblinear\n",
      "    epsilon, sample_weight)\n",
      "  File \"sklearn\\svm\\_liblinear.pyx\", line 52, in sklearn.svm._liblinear.train_wrap\n",
      "ValueError: b'C <= 0'\n",
      "\n",
      "  FitFailedWarning)\n",
      "C:\\Users\\Ashish Gupta\\anaconda3\\envs\\udemy\\lib\\site-packages\\sklearn\\model_selection\\_validation.py:552: FitFailedWarning: Estimator fit failed. The score on this train-test partition for these parameters will be set to nan. Details: \n",
      "Traceback (most recent call last):\n",
      "  File \"C:\\Users\\Ashish Gupta\\anaconda3\\envs\\udemy\\lib\\site-packages\\sklearn\\model_selection\\_validation.py\", line 531, in _fit_and_score\n",
      "    estimator.fit(X_train, y_train, **fit_params)\n",
      "  File \"C:\\Users\\Ashish Gupta\\anaconda3\\envs\\udemy\\lib\\site-packages\\sklearn\\svm\\_classes.py\", line 422, in fit\n",
      "    epsilon=self.epsilon, sample_weight=sample_weight)\n",
      "  File \"C:\\Users\\Ashish Gupta\\anaconda3\\envs\\udemy\\lib\\site-packages\\sklearn\\svm\\_base.py\", line 969, in _fit_liblinear\n",
      "    epsilon, sample_weight)\n",
      "  File \"sklearn\\svm\\_liblinear.pyx\", line 52, in sklearn.svm._liblinear.train_wrap\n",
      "ValueError: b'C <= 0'\n",
      "\n",
      "  FitFailedWarning)\n",
      "C:\\Users\\Ashish Gupta\\anaconda3\\envs\\udemy\\lib\\site-packages\\sklearn\\model_selection\\_validation.py:552: FitFailedWarning: Estimator fit failed. The score on this train-test partition for these parameters will be set to nan. Details: \n",
      "Traceback (most recent call last):\n",
      "  File \"C:\\Users\\Ashish Gupta\\anaconda3\\envs\\udemy\\lib\\site-packages\\sklearn\\model_selection\\_validation.py\", line 531, in _fit_and_score\n",
      "    estimator.fit(X_train, y_train, **fit_params)\n",
      "  File \"C:\\Users\\Ashish Gupta\\anaconda3\\envs\\udemy\\lib\\site-packages\\sklearn\\svm\\_classes.py\", line 422, in fit\n",
      "    epsilon=self.epsilon, sample_weight=sample_weight)\n",
      "  File \"C:\\Users\\Ashish Gupta\\anaconda3\\envs\\udemy\\lib\\site-packages\\sklearn\\svm\\_base.py\", line 969, in _fit_liblinear\n",
      "    epsilon, sample_weight)\n",
      "  File \"sklearn\\svm\\_liblinear.pyx\", line 52, in sklearn.svm._liblinear.train_wrap\n",
      "ValueError: b'C <= 0'\n",
      "\n",
      "  FitFailedWarning)\n",
      "C:\\Users\\Ashish Gupta\\anaconda3\\envs\\udemy\\lib\\site-packages\\sklearn\\model_selection\\_validation.py:552: FitFailedWarning: Estimator fit failed. The score on this train-test partition for these parameters will be set to nan. Details: \n",
      "Traceback (most recent call last):\n",
      "  File \"C:\\Users\\Ashish Gupta\\anaconda3\\envs\\udemy\\lib\\site-packages\\sklearn\\model_selection\\_validation.py\", line 531, in _fit_and_score\n",
      "    estimator.fit(X_train, y_train, **fit_params)\n",
      "  File \"C:\\Users\\Ashish Gupta\\anaconda3\\envs\\udemy\\lib\\site-packages\\sklearn\\svm\\_classes.py\", line 422, in fit\n",
      "    epsilon=self.epsilon, sample_weight=sample_weight)\n",
      "  File \"C:\\Users\\Ashish Gupta\\anaconda3\\envs\\udemy\\lib\\site-packages\\sklearn\\svm\\_base.py\", line 969, in _fit_liblinear\n",
      "    epsilon, sample_weight)\n",
      "  File \"sklearn\\svm\\_liblinear.pyx\", line 52, in sklearn.svm._liblinear.train_wrap\n",
      "ValueError: b'C <= 0'\n",
      "\n",
      "  FitFailedWarning)\n",
      "C:\\Users\\Ashish Gupta\\anaconda3\\envs\\udemy\\lib\\site-packages\\sklearn\\model_selection\\_validation.py:552: FitFailedWarning: Estimator fit failed. The score on this train-test partition for these parameters will be set to nan. Details: \n",
      "Traceback (most recent call last):\n",
      "  File \"C:\\Users\\Ashish Gupta\\anaconda3\\envs\\udemy\\lib\\site-packages\\sklearn\\model_selection\\_validation.py\", line 531, in _fit_and_score\n",
      "    estimator.fit(X_train, y_train, **fit_params)\n",
      "  File \"C:\\Users\\Ashish Gupta\\anaconda3\\envs\\udemy\\lib\\site-packages\\sklearn\\svm\\_classes.py\", line 422, in fit\n",
      "    epsilon=self.epsilon, sample_weight=sample_weight)\n",
      "  File \"C:\\Users\\Ashish Gupta\\anaconda3\\envs\\udemy\\lib\\site-packages\\sklearn\\svm\\_base.py\", line 969, in _fit_liblinear\n",
      "    epsilon, sample_weight)\n",
      "  File \"sklearn\\svm\\_liblinear.pyx\", line 52, in sklearn.svm._liblinear.train_wrap\n",
      "ValueError: b'C <= 0'\n",
      "\n",
      "  FitFailedWarning)\n",
      "C:\\Users\\Ashish Gupta\\anaconda3\\envs\\udemy\\lib\\site-packages\\sklearn\\model_selection\\_validation.py:552: FitFailedWarning: Estimator fit failed. The score on this train-test partition for these parameters will be set to nan. Details: \n",
      "Traceback (most recent call last):\n",
      "  File \"C:\\Users\\Ashish Gupta\\anaconda3\\envs\\udemy\\lib\\site-packages\\sklearn\\model_selection\\_validation.py\", line 531, in _fit_and_score\n",
      "    estimator.fit(X_train, y_train, **fit_params)\n",
      "  File \"C:\\Users\\Ashish Gupta\\anaconda3\\envs\\udemy\\lib\\site-packages\\sklearn\\svm\\_classes.py\", line 422, in fit\n",
      "    epsilon=self.epsilon, sample_weight=sample_weight)\n",
      "  File \"C:\\Users\\Ashish Gupta\\anaconda3\\envs\\udemy\\lib\\site-packages\\sklearn\\svm\\_base.py\", line 969, in _fit_liblinear\n",
      "    epsilon, sample_weight)\n",
      "  File \"sklearn\\svm\\_liblinear.pyx\", line 52, in sklearn.svm._liblinear.train_wrap\n",
      "ValueError: b'C <= 0'\n",
      "\n",
      "  FitFailedWarning)\n",
      "C:\\Users\\Ashish Gupta\\anaconda3\\envs\\udemy\\lib\\site-packages\\sklearn\\model_selection\\_validation.py:552: FitFailedWarning: Estimator fit failed. The score on this train-test partition for these parameters will be set to nan. Details: \n",
      "Traceback (most recent call last):\n",
      "  File \"C:\\Users\\Ashish Gupta\\anaconda3\\envs\\udemy\\lib\\site-packages\\sklearn\\model_selection\\_validation.py\", line 531, in _fit_and_score\n",
      "    estimator.fit(X_train, y_train, **fit_params)\n",
      "  File \"C:\\Users\\Ashish Gupta\\anaconda3\\envs\\udemy\\lib\\site-packages\\sklearn\\svm\\_classes.py\", line 422, in fit\n",
      "    epsilon=self.epsilon, sample_weight=sample_weight)\n",
      "  File \"C:\\Users\\Ashish Gupta\\anaconda3\\envs\\udemy\\lib\\site-packages\\sklearn\\svm\\_base.py\", line 969, in _fit_liblinear\n",
      "    epsilon, sample_weight)\n",
      "  File \"sklearn\\svm\\_liblinear.pyx\", line 52, in sklearn.svm._liblinear.train_wrap\n",
      "ValueError: b'C <= 0'\n",
      "\n",
      "  FitFailedWarning)\n",
      "C:\\Users\\Ashish Gupta\\anaconda3\\envs\\udemy\\lib\\site-packages\\sklearn\\model_selection\\_validation.py:552: FitFailedWarning: Estimator fit failed. The score on this train-test partition for these parameters will be set to nan. Details: \n",
      "Traceback (most recent call last):\n",
      "  File \"C:\\Users\\Ashish Gupta\\anaconda3\\envs\\udemy\\lib\\site-packages\\sklearn\\model_selection\\_validation.py\", line 531, in _fit_and_score\n",
      "    estimator.fit(X_train, y_train, **fit_params)\n",
      "  File \"C:\\Users\\Ashish Gupta\\anaconda3\\envs\\udemy\\lib\\site-packages\\sklearn\\svm\\_classes.py\", line 422, in fit\n",
      "    epsilon=self.epsilon, sample_weight=sample_weight)\n",
      "  File \"C:\\Users\\Ashish Gupta\\anaconda3\\envs\\udemy\\lib\\site-packages\\sklearn\\svm\\_base.py\", line 969, in _fit_liblinear\n",
      "    epsilon, sample_weight)\n",
      "  File \"sklearn\\svm\\_liblinear.pyx\", line 52, in sklearn.svm._liblinear.train_wrap\n",
      "ValueError: b'C <= 0'\n",
      "\n",
      "  FitFailedWarning)\n",
      "C:\\Users\\Ashish Gupta\\anaconda3\\envs\\udemy\\lib\\site-packages\\sklearn\\model_selection\\_validation.py:552: FitFailedWarning: Estimator fit failed. The score on this train-test partition for these parameters will be set to nan. Details: \n",
      "Traceback (most recent call last):\n",
      "  File \"C:\\Users\\Ashish Gupta\\anaconda3\\envs\\udemy\\lib\\site-packages\\sklearn\\model_selection\\_validation.py\", line 531, in _fit_and_score\n",
      "    estimator.fit(X_train, y_train, **fit_params)\n",
      "  File \"C:\\Users\\Ashish Gupta\\anaconda3\\envs\\udemy\\lib\\site-packages\\sklearn\\svm\\_classes.py\", line 422, in fit\n",
      "    epsilon=self.epsilon, sample_weight=sample_weight)\n",
      "  File \"C:\\Users\\Ashish Gupta\\anaconda3\\envs\\udemy\\lib\\site-packages\\sklearn\\svm\\_base.py\", line 969, in _fit_liblinear\n",
      "    epsilon, sample_weight)\n",
      "  File \"sklearn\\svm\\_liblinear.pyx\", line 52, in sklearn.svm._liblinear.train_wrap\n",
      "ValueError: b'C <= 0'\n",
      "\n",
      "  FitFailedWarning)\n",
      "C:\\Users\\Ashish Gupta\\anaconda3\\envs\\udemy\\lib\\site-packages\\sklearn\\model_selection\\_validation.py:552: FitFailedWarning: Estimator fit failed. The score on this train-test partition for these parameters will be set to nan. Details: \n",
      "Traceback (most recent call last):\n",
      "  File \"C:\\Users\\Ashish Gupta\\anaconda3\\envs\\udemy\\lib\\site-packages\\sklearn\\model_selection\\_validation.py\", line 531, in _fit_and_score\n",
      "    estimator.fit(X_train, y_train, **fit_params)\n",
      "  File \"C:\\Users\\Ashish Gupta\\anaconda3\\envs\\udemy\\lib\\site-packages\\sklearn\\svm\\_classes.py\", line 422, in fit\n",
      "    epsilon=self.epsilon, sample_weight=sample_weight)\n",
      "  File \"C:\\Users\\Ashish Gupta\\anaconda3\\envs\\udemy\\lib\\site-packages\\sklearn\\svm\\_base.py\", line 969, in _fit_liblinear\n",
      "    epsilon, sample_weight)\n",
      "  File \"sklearn\\svm\\_liblinear.pyx\", line 52, in sklearn.svm._liblinear.train_wrap\n",
      "ValueError: b'C <= 0'\n",
      "\n",
      "  FitFailedWarning)\n",
      "C:\\Users\\Ashish Gupta\\anaconda3\\envs\\udemy\\lib\\site-packages\\sklearn\\model_selection\\_validation.py:552: FitFailedWarning: Estimator fit failed. The score on this train-test partition for these parameters will be set to nan. Details: \n",
      "Traceback (most recent call last):\n",
      "  File \"C:\\Users\\Ashish Gupta\\anaconda3\\envs\\udemy\\lib\\site-packages\\sklearn\\model_selection\\_validation.py\", line 531, in _fit_and_score\n",
      "    estimator.fit(X_train, y_train, **fit_params)\n",
      "  File \"C:\\Users\\Ashish Gupta\\anaconda3\\envs\\udemy\\lib\\site-packages\\sklearn\\svm\\_classes.py\", line 422, in fit\n",
      "    epsilon=self.epsilon, sample_weight=sample_weight)\n",
      "  File \"C:\\Users\\Ashish Gupta\\anaconda3\\envs\\udemy\\lib\\site-packages\\sklearn\\svm\\_base.py\", line 969, in _fit_liblinear\n",
      "    epsilon, sample_weight)\n",
      "  File \"sklearn\\svm\\_liblinear.pyx\", line 52, in sklearn.svm._liblinear.train_wrap\n",
      "ValueError: b'C <= 0'\n",
      "\n",
      "  FitFailedWarning)\n",
      "C:\\Users\\Ashish Gupta\\anaconda3\\envs\\udemy\\lib\\site-packages\\sklearn\\model_selection\\_validation.py:552: FitFailedWarning: Estimator fit failed. The score on this train-test partition for these parameters will be set to nan. Details: \n",
      "Traceback (most recent call last):\n",
      "  File \"C:\\Users\\Ashish Gupta\\anaconda3\\envs\\udemy\\lib\\site-packages\\sklearn\\model_selection\\_validation.py\", line 531, in _fit_and_score\n",
      "    estimator.fit(X_train, y_train, **fit_params)\n",
      "  File \"C:\\Users\\Ashish Gupta\\anaconda3\\envs\\udemy\\lib\\site-packages\\sklearn\\svm\\_classes.py\", line 422, in fit\n",
      "    epsilon=self.epsilon, sample_weight=sample_weight)\n",
      "  File \"C:\\Users\\Ashish Gupta\\anaconda3\\envs\\udemy\\lib\\site-packages\\sklearn\\svm\\_base.py\", line 969, in _fit_liblinear\n",
      "    epsilon, sample_weight)\n",
      "  File \"sklearn\\svm\\_liblinear.pyx\", line 52, in sklearn.svm._liblinear.train_wrap\n",
      "ValueError: b'C <= 0'\n",
      "\n",
      "  FitFailedWarning)\n",
      "C:\\Users\\Ashish Gupta\\anaconda3\\envs\\udemy\\lib\\site-packages\\sklearn\\model_selection\\_validation.py:552: FitFailedWarning: Estimator fit failed. The score on this train-test partition for these parameters will be set to nan. Details: \n",
      "Traceback (most recent call last):\n",
      "  File \"C:\\Users\\Ashish Gupta\\anaconda3\\envs\\udemy\\lib\\site-packages\\sklearn\\model_selection\\_validation.py\", line 531, in _fit_and_score\n",
      "    estimator.fit(X_train, y_train, **fit_params)\n",
      "  File \"C:\\Users\\Ashish Gupta\\anaconda3\\envs\\udemy\\lib\\site-packages\\sklearn\\svm\\_classes.py\", line 422, in fit\n",
      "    epsilon=self.epsilon, sample_weight=sample_weight)\n",
      "  File \"C:\\Users\\Ashish Gupta\\anaconda3\\envs\\udemy\\lib\\site-packages\\sklearn\\svm\\_base.py\", line 969, in _fit_liblinear\n",
      "    epsilon, sample_weight)\n",
      "  File \"sklearn\\svm\\_liblinear.pyx\", line 52, in sklearn.svm._liblinear.train_wrap\n",
      "ValueError: b'C <= 0'\n",
      "\n",
      "  FitFailedWarning)\n"
     ]
    },
    {
     "name": "stderr",
     "output_type": "stream",
     "text": [
      "C:\\Users\\Ashish Gupta\\anaconda3\\envs\\udemy\\lib\\site-packages\\sklearn\\model_selection\\_validation.py:552: FitFailedWarning: Estimator fit failed. The score on this train-test partition for these parameters will be set to nan. Details: \n",
      "Traceback (most recent call last):\n",
      "  File \"C:\\Users\\Ashish Gupta\\anaconda3\\envs\\udemy\\lib\\site-packages\\sklearn\\model_selection\\_validation.py\", line 531, in _fit_and_score\n",
      "    estimator.fit(X_train, y_train, **fit_params)\n",
      "  File \"C:\\Users\\Ashish Gupta\\anaconda3\\envs\\udemy\\lib\\site-packages\\sklearn\\svm\\_classes.py\", line 422, in fit\n",
      "    epsilon=self.epsilon, sample_weight=sample_weight)\n",
      "  File \"C:\\Users\\Ashish Gupta\\anaconda3\\envs\\udemy\\lib\\site-packages\\sklearn\\svm\\_base.py\", line 969, in _fit_liblinear\n",
      "    epsilon, sample_weight)\n",
      "  File \"sklearn\\svm\\_liblinear.pyx\", line 52, in sklearn.svm._liblinear.train_wrap\n",
      "ValueError: b'C <= 0'\n",
      "\n",
      "  FitFailedWarning)\n"
     ]
    },
    {
     "name": "stdout",
     "output_type": "stream",
     "text": [
      "Mean Price : 180826.0762653899\n",
      "MAE : 184929.1092150171\n",
      "RMSE : 205049.31805285768\n",
      "Percentage deviation from mean value : 102.27\n"
     ]
    }
   ],
   "source": [
    "run_model(grid_model, scaled_X_train, y_train, scaled_X_test, y_test)"
   ]
  },
  {
   "cell_type": "code",
   "execution_count": 90,
   "id": "f694f84d",
   "metadata": {},
   "outputs": [
    {
     "data": {
      "text/plain": [
       "{'C': 1, 'epsilon': 0.01}"
      ]
     },
     "execution_count": 90,
     "metadata": {},
     "output_type": "execute_result"
    }
   ],
   "source": [
    "grid_model.best_params_"
   ]
  },
  {
   "cell_type": "markdown",
   "id": "800b70d1",
   "metadata": {},
   "source": [
    "- The model is not a good predictor as it yields large errors as compared to Linear Regression."
   ]
  },
  {
   "cell_type": "markdown",
   "id": "38bc9b9a",
   "metadata": {},
   "source": [
    "## Model Selection"
   ]
  },
  {
   "cell_type": "markdown",
   "id": "6e475d85",
   "metadata": {},
   "source": [
    "#### Based on analysis of errors from various model we can say that Linear Model is the best among the class of model tested for the dataset.<b>\n",
    "#### Weather the model can be used to predict sale price of a house depends on domain knowledge and market condition for houses.<b>\n",
    "#### What we can infer is that Linear Regression is the best model to predict the sale prices of houses.\n",
    "#### A realtor can predict the price of a house given the features and adjust according the their experience and condition to quote a desirable price."
   ]
  }
 ],
 "metadata": {
  "language_info": {
   "codemirror_mode": {
    "name": "ipython",
    "version": 3
   },
   "file_extension": ".py",
   "mimetype": "text/x-python",
   "name": "python",
   "nbconvert_exporter": "python",
   "pygments_lexer": "ipython3",
   "version": "3.9.5"
  }
 },
 "nbformat": 4,
 "nbformat_minor": 5
}